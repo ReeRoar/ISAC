{
 "cells": [
  {
   "cell_type": "code",
   "execution_count": 11,
   "metadata": {
    "collapsed": true
   },
   "outputs": [
    {
     "name": "stderr",
     "output_type": "stream",
     "text": [
      "Ultralytics YOLOv8.0.49 🚀 Python-3.9.15 torch-1.13.1 CUDA:0 (NVIDIA GeForce RTX 4090, 24214MiB)\n",
      "YOLOv8n summary (fused): 168 layers, 3151904 parameters, 0 gradients, 8.7 GFLOPs\n"
     ]
    },
    {
     "data": {
      "text/plain": "0"
     },
     "execution_count": 11,
     "metadata": {},
     "output_type": "execute_result"
    }
   ],
   "source": [
    "from ultralytics import YOLO\n",
    "from os import listdir\n",
    "from os.path import isfile, join\n",
    "import re\n",
    "model = YOLO('yolov8n.pt')\n",
    "\n",
    "\n",
    "def get_true_pred(file):\n",
    "    count = 0\n",
    "    with open(file, 'r') as f:\n",
    "        for x in f:\n",
    "            if x[0] == '0':\n",
    "                count += 1\n",
    "    return count\n",
    "def pred_img(image,model=model, conf=.5):\n",
    "    x = model.predict(image, conf=conf,verbose=False)\n",
    "    return len(x[0].boxes.boxes)\n",
    "\n",
    "get_true_pred('data/val/camera2_data_3_161.txt')\n",
    "pred_img('data/val/camera2_data_3_161.jpg')"
   ]
  },
  {
   "cell_type": "code",
   "execution_count": 12,
   "outputs": [],
   "source": [
    "def eval_data(dir,model,conf):\n",
    "    correct = 0\n",
    "    incorrect = 0\n",
    "    imgs = [f for f in listdir(dir) if isfile(join(dir, f))]\n",
    "    imgs = [f for f in imgs if '.jpg' in f]\n",
    "    labels = [re.sub('.jpg','.txt',f) for f in imgs]\n",
    "    true_list = []\n",
    "    incorrect_list = []\n",
    "    for i in range(len(imgs)):\n",
    "        pred = pred_img(dir+'/'+imgs[i],model,conf)\n",
    "        true = get_true_pred(dir+'/'+labels[i])\n",
    "        if pred == true:\n",
    "            correct += 1\n",
    "            true_list.append((pred,imgs[i]))\n",
    "        else:\n",
    "            incorrect += 1\n",
    "            incorrect_list.append((pred,true,imgs[i]))\n",
    "\n",
    "    return correct,incorrect, true_list , incorrect_list\n",
    "\n",
    "correct,incorrect,  true_list , incorrect_list  = eval_data('data/val',model,.2)"
   ],
   "metadata": {
    "collapsed": false,
    "pycharm": {
     "name": "#%%\n"
    }
   }
  },
  {
   "cell_type": "code",
   "execution_count": 13,
   "outputs": [
    {
     "data": {
      "text/plain": "0.13793103448275862"
     },
     "execution_count": 13,
     "metadata": {},
     "output_type": "execute_result"
    }
   ],
   "source": [
    "correct/(correct+incorrect)"
   ],
   "metadata": {
    "collapsed": false,
    "pycharm": {
     "name": "#%%\n"
    }
   }
  },
  {
   "cell_type": "code",
   "execution_count": 4,
   "outputs": [
    {
     "data": {
      "text/plain": "104"
     },
     "execution_count": 4,
     "metadata": {},
     "output_type": "execute_result"
    }
   ],
   "source": [
    "incorrect"
   ],
   "metadata": {
    "collapsed": false,
    "pycharm": {
     "name": "#%%\n"
    }
   }
  },
  {
   "cell_type": "code",
   "execution_count": 5,
   "outputs": [
    {
     "data": {
      "text/plain": "[(4, 'camera2_data_3_548.jpg'),\n (1, 'camera2_data_3_571.jpg'),\n (2, 'camera2_data_3_565.jpg'),\n (2, 'camera2_data_3_132.jpg'),\n (0, 'camera2_data_3_551.jpg'),\n (6, 'camera_2_data_2_18.jpg'),\n (4, 'camera_1_data_2_11.jpg'),\n (0, 'camera2_data_3_209.jpg'),\n (4, 'camera2_data_3_78.jpg'),\n (0, 'camera2_data_3_56.jpg'),\n (4, 'camera_1_data_2_59.jpg'),\n (2, 'camera2_data_3_103.jpg'),\n (1, 'camera_2_data_5_203.jpg'),\n (5, 'camera_1_data_2_3.jpg'),\n (0, 'camera2_data_3_405.jpg'),\n (1, 'camera_2_data_5_63.jpg'),\n (1, 'camera_2_data_5_98.jpg'),\n (1, 'camera_1_data_5_47.jpg'),\n (0, 'camera2_data_3_363.jpg'),\n (0, 'camera2_data_3_189.jpg'),\n (1, 'camera2_data_3_370.jpg'),\n (3, 'camera_1_data_2_236.jpg'),\n (2, 'camera2_data_3_413.jpg'),\n (2, 'camera2_data_3_317.jpg'),\n (0, 'camera2_data_3_365.jpg'),\n (2, 'camera2_data_3_411.jpg'),\n (0, 'camera2_data_3_393.jpg'),\n (0, 'camera2_data_3_207.jpg'),\n (1, 'camera_2_data_5_28.jpg'),\n (1, 'camera_1_data_5_139.jpg'),\n (2, 'camera2_data_3_87.jpg'),\n (2, 'camera_1_data_5_197.jpg'),\n (0, 'camera2_data_3_146.jpg'),\n (0, 'camera2_data_3_403.jpg'),\n (2, 'camera2_data_3_527.jpg'),\n (1, 'camera_1_data_5_89.jpg'),\n (1, 'camera_2_data_5_103.jpg'),\n (5, 'camera_1_data_2_144.jpg'),\n (1, 'camera_2_data_5_162.jpg'),\n (3, 'camera2_data_3_243.jpg'),\n (1, 'camera_2_data_5_213.jpg')]"
     },
     "execution_count": 5,
     "metadata": {},
     "output_type": "execute_result"
    }
   ],
   "source": [
    "true_list"
   ],
   "metadata": {
    "collapsed": false,
    "pycharm": {
     "name": "#%%\n"
    }
   }
  },
  {
   "cell_type": "code",
   "execution_count": 6,
   "outputs": [
    {
     "data": {
      "text/plain": "[(3, 4, 'camera_2_data_5_16.jpg'),\n (4, 2, 'camera2_data_3_555.jpg'),\n (1, 2, 'camera_1_data_5_183.jpg'),\n (4, 5, 'camera_1_data_2_180.jpg'),\n (3, 5, 'camera_1_data_2_159.jpg'),\n (4, 2, 'camera2_data_3_153.jpg'),\n (4, 6, 'camera2_data_3_278.jpg'),\n (4, 5, 'camera2_data_3_547.jpg'),\n (3, 4, 'camera_1_data_2_41.jpg'),\n (4, 8, 'camera_2_data_2_75.jpg'),\n (1, 2, 'camera_2_data_5_80.jpg'),\n (0, 3, 'camera_1_data_5_126.jpg'),\n (3, 7, 'camera_2_data_2_69.jpg'),\n (2, 7, 'camera_2_data_2_53.jpg'),\n (4, 5, 'camera_2_data_5_81.jpg'),\n (3, 4, 'camera_1_data_2_23.jpg'),\n (4, 3, 'camera2_data_3_6.jpg'),\n (3, 4, 'camera_1_data_2_206.jpg'),\n (3, 8, 'camera_2_data_2_31.jpg'),\n (3, 2, 'camera2_data_3_369.jpg'),\n (2, 4, 'camera2_data_3_330.jpg'),\n (3, 7, 'camera2_data_3_256.jpg'),\n (2, 4, 'camera_1_data_2_25.jpg'),\n (0, 1, 'camera2_data_3_161.jpg'),\n (3, 4, 'camera2_data_3_182.jpg'),\n (0, 3, 'camera_1_data_5_215.jpg'),\n (1, 2, 'camera_2_data_5_7.jpg'),\n (3, 6, 'camera_1_data_5_153.jpg'),\n (2, 5, 'camera_1_data_2_175.jpg'),\n (0, 1, 'camera_1_data_5_66.jpg'),\n (3, 2, 'camera2_data_3_581.jpg'),\n (3, 4, 'camera_1_data_2_85.jpg'),\n (0, 4, 'camera_1_data_5_172.jpg'),\n (1, 2, 'camera2_data_3_47.jpg'),\n (4, 2, 'camera2_data_3_557.jpg'),\n (3, 4, 'camera_2_data_2_23.jpg'),\n (0, 2, 'camera_1_data_5_224.jpg'),\n (4, 3, 'camera2_data_3_534.jpg'),\n (5, 6, 'camera2_data_3_323.jpg'),\n (1, 7, 'camera_2_data_5_27.jpg'),\n (3, 4, 'camera_1_data_2_66.jpg'),\n (5, 3, 'camera2_data_3_420.jpg'),\n (4, 3, 'camera2_data_3_240.jpg'),\n (3, 4, 'camera_1_data_2_205.jpg'),\n (4, 2, 'camera2_data_3_333.jpg'),\n (1, 2, 'camera_2_data_5_72.jpg'),\n (2, 5, 'camera_1_data_5_195.jpg'),\n (4, 5, 'camera2_data_3_561.jpg'),\n (1, 3, 'camera_1_data_5_74.jpg'),\n (3, 4, 'camera2_data_3_550.jpg'),\n (2, 6, 'camera_1_data_5_171.jpg'),\n (2, 5, 'camera_1_data_2_150.jpg'),\n (3, 5, 'camera_2_data_5_128.jpg'),\n (2, 3, 'camera_1_data_2_157.jpg'),\n (3, 5, 'camera_2_data_5_54.jpg'),\n (4, 5, 'camera_1_data_2_162.jpg'),\n (2, 4, 'camera_1_data_2_140.jpg'),\n (3, 2, 'camera2_data_3_434.jpg'),\n (2, 6, 'camera_2_data_2_62.jpg'),\n (1, 2, 'camera_2_data_5_96.jpg'),\n (3, 2, 'camera2_data_3_260.jpg'),\n (0, 1, 'camera_1_data_5_97.jpg'),\n (5, 8, 'camera_2_data_2_63.jpg'),\n (4, 5, 'camera2_data_3_520.jpg'),\n (5, 6, 'camera_2_data_2_15.jpg'),\n (3, 7, 'camera_2_data_2_47.jpg'),\n (3, 4, 'camera2_data_3_144.jpg'),\n (1, 4, 'camera_1_data_2_195.jpg'),\n (4, 2, 'camera2_data_3_334.jpg'),\n (3, 8, 'camera_2_data_2_85.jpg'),\n (2, 3, 'camera2_data_3_5.jpg'),\n (1, 2, 'camera2_data_3_575.jpg'),\n (3, 4, 'camera_1_data_2_231.jpg'),\n (6, 5, 'camera2_data_3_229.jpg'),\n (3, 4, 'camera_1_data_2_56.jpg'),\n (3, 4, 'camera_1_data_2_263.jpg'),\n (2, 3, 'camera_1_data_2_125.jpg'),\n (3, 5, 'camera_2_data_2_65.jpg'),\n (1, 4, 'camera_1_data_2_191.jpg'),\n (4, 5, 'camera2_data_3_506.jpg'),\n (8, 6, 'camera2_data_3_501.jpg'),\n (7, 5, 'camera_2_data_2_9.jpg'),\n (3, 6, 'camera_2_data_5_183.jpg'),\n (4, 7, 'camera_2_data_5_70.jpg'),\n (2, 7, 'camera_1_data_5_27.jpg'),\n (3, 4, 'camera_1_data_2_272.jpg'),\n (3, 5, 'camera_1_data_2_210.jpg'),\n (2, 7, 'camera_1_data_5_24.jpg'),\n (2, 5, 'camera_1_data_2_111.jpg'),\n (3, 5, 'camera_2_data_2_27.jpg'),\n (0, 1, 'camera_2_data_5_12.jpg'),\n (2, 4, 'camera_1_data_2_29.jpg'),\n (2, 8, 'camera_2_data_5_61.jpg'),\n (0, 6, 'camera_1_data_5_169.jpg'),\n (3, 4, 'camera_1_data_2_63.jpg'),\n (3, 4, 'camera_1_data_2_260.jpg'),\n (5, 8, 'camera_2_data_2_51.jpg'),\n (3, 5, 'camera_1_data_2_253.jpg'),\n (1, 2, 'camera_2_data_5_71.jpg'),\n (4, 2, 'camera2_data_3_536.jpg'),\n (2, 4, 'camera_2_data_5_222.jpg'),\n (4, 5, 'camera2_data_3_287.jpg'),\n (0, 1, 'camera_1_data_5_39.jpg'),\n (4, 5, 'camera2_data_3_321.jpg')]"
     },
     "execution_count": 6,
     "metadata": {},
     "output_type": "execute_result"
    }
   ],
   "source": [
    "incorrect_list"
   ],
   "metadata": {
    "collapsed": false,
    "pycharm": {
     "name": "#%%\n"
    }
   }
  },
  {
   "cell_type": "code",
   "execution_count": 7,
   "outputs": [],
   "source": [
    "import numpy as np"
   ],
   "metadata": {
    "collapsed": false,
    "pycharm": {
     "name": "#%%\n"
    }
   }
  },
  {
   "cell_type": "code",
   "execution_count": 14,
   "outputs": [
    {
     "name": "stdout",
     "output_type": "stream",
     "text": [
      "conf=0.01, acc=0.0\n",
      "conf=0.02, acc=0.0\n",
      "conf=0.03, acc=0.0\n",
      "conf=0.04, acc=0.0\n",
      "conf=0.05, acc=0.006896551724137931\n",
      "conf=0.060000000000000005, acc=0.013793103448275862\n",
      "conf=0.06999999999999999, acc=0.027586206896551724\n",
      "conf=0.08, acc=0.04827586206896552\n",
      "conf=0.09, acc=0.041379310344827586\n",
      "conf=0.09999999999999999, acc=0.09655172413793103\n",
      "conf=0.11, acc=0.09655172413793103\n",
      "conf=0.12, acc=0.09655172413793103\n",
      "conf=0.13, acc=0.09655172413793103\n",
      "conf=0.14, acc=0.09655172413793103\n",
      "conf=0.15000000000000002, acc=0.09655172413793103\n",
      "conf=0.16, acc=0.1103448275862069\n",
      "conf=0.17, acc=0.12413793103448276\n",
      "conf=0.18000000000000002, acc=0.1310344827586207\n",
      "conf=0.19, acc=0.13793103448275862\n",
      "conf=0.2, acc=0.13793103448275862\n",
      "conf=0.21000000000000002, acc=0.13793103448275862\n",
      "conf=0.22, acc=0.15172413793103448\n",
      "conf=0.23, acc=0.1793103448275862\n",
      "conf=0.24000000000000002, acc=0.1793103448275862\n",
      "conf=0.25, acc=0.1724137931034483\n",
      "conf=0.26, acc=0.18620689655172415\n",
      "conf=0.27, acc=0.1793103448275862\n",
      "conf=0.28, acc=0.19310344827586207\n",
      "conf=0.29000000000000004, acc=0.1724137931034483\n",
      "conf=0.3, acc=0.1793103448275862\n",
      "conf=0.31, acc=0.1793103448275862\n",
      "conf=0.32, acc=0.1724137931034483\n",
      "conf=0.33, acc=0.15862068965517243\n",
      "conf=0.34, acc=0.1724137931034483\n",
      "conf=0.35000000000000003, acc=0.16551724137931034\n",
      "conf=0.36000000000000004, acc=0.1793103448275862\n",
      "conf=0.37, acc=0.1724137931034483\n",
      "conf=0.38, acc=0.1724137931034483\n",
      "conf=0.39, acc=0.16551724137931034\n",
      "conf=0.4, acc=0.15862068965517243\n",
      "conf=0.41000000000000003, acc=0.16551724137931034\n",
      "conf=0.42000000000000004, acc=0.16551724137931034\n",
      "conf=0.43, acc=0.16551724137931034\n",
      "conf=0.44, acc=0.15862068965517243\n",
      "conf=0.45, acc=0.15862068965517243\n",
      "conf=0.46, acc=0.15862068965517243\n",
      "conf=0.47000000000000003, acc=0.16551724137931034\n",
      "conf=0.48000000000000004, acc=0.15862068965517243\n",
      "conf=0.49, acc=0.15862068965517243\n",
      "conf=0.5, acc=0.15862068965517243\n",
      "conf=0.51, acc=0.15862068965517243\n",
      "conf=0.52, acc=0.15172413793103448\n",
      "conf=0.53, acc=0.14482758620689656\n",
      "conf=0.54, acc=0.13793103448275862\n",
      "conf=0.55, acc=0.14482758620689656\n",
      "conf=0.56, acc=0.13793103448275862\n",
      "conf=0.5700000000000001, acc=0.13793103448275862\n",
      "conf=0.5800000000000001, acc=0.1310344827586207\n",
      "conf=0.59, acc=0.12413793103448276\n",
      "conf=0.6, acc=0.12413793103448276\n",
      "conf=0.61, acc=0.12413793103448276\n",
      "conf=0.62, acc=0.12413793103448276\n",
      "conf=0.63, acc=0.1310344827586207\n",
      "conf=0.64, acc=0.13793103448275862\n",
      "conf=0.65, acc=0.13793103448275862\n",
      "conf=0.66, acc=0.13793103448275862\n",
      "conf=0.67, acc=0.13793103448275862\n",
      "conf=0.68, acc=0.13793103448275862\n",
      "conf=0.6900000000000001, acc=0.13793103448275862\n",
      "conf=0.7000000000000001, acc=0.13793103448275862\n",
      "conf=0.7100000000000001, acc=0.13793103448275862\n",
      "conf=0.72, acc=0.13793103448275862\n",
      "conf=0.73, acc=0.1310344827586207\n",
      "conf=0.74, acc=0.1310344827586207\n",
      "conf=0.75, acc=0.1310344827586207\n",
      "conf=0.76, acc=0.1310344827586207\n",
      "conf=0.77, acc=0.1310344827586207\n",
      "conf=0.78, acc=0.12413793103448276\n",
      "conf=0.79, acc=0.12413793103448276\n",
      "conf=0.8, acc=0.11724137931034483\n",
      "conf=0.81, acc=0.1103448275862069\n",
      "conf=0.8200000000000001, acc=0.10344827586206896\n",
      "conf=0.8300000000000001, acc=0.0896551724137931\n",
      "conf=0.8400000000000001, acc=0.08275862068965517\n",
      "conf=0.85, acc=0.07586206896551724\n",
      "conf=0.86, acc=0.07586206896551724\n",
      "conf=0.87, acc=0.07586206896551724\n",
      "conf=0.88, acc=0.07586206896551724\n",
      "conf=0.89, acc=0.07586206896551724\n",
      "conf=0.9, acc=0.07586206896551724\n",
      "conf=0.91, acc=0.07586206896551724\n",
      "conf=0.92, acc=0.07586206896551724\n",
      "conf=0.93, acc=0.07586206896551724\n",
      "conf=0.9400000000000001, acc=0.07586206896551724\n",
      "conf=0.9500000000000001, acc=0.07586206896551724\n",
      "conf=0.9600000000000001, acc=0.07586206896551724\n",
      "conf=0.97, acc=0.07586206896551724\n",
      "conf=0.98, acc=0.07586206896551724\n",
      "conf=0.99, acc=0.07586206896551724\n"
     ]
    }
   ],
   "source": [
    "results = []\n",
    "for i in np.arange(0.01,1,0.01):\n",
    "    max_conf = 0\n",
    "    max_accuracy = 0\n",
    "    correct,incorrect,  true_list , incorrect_list  = eval_data('data/val',model,i)\n",
    "    acc = correct/(correct+incorrect)\n",
    "    print(f'conf={i}, acc={acc}')\n",
    "    results.append((i,acc))\n"
   ],
   "metadata": {
    "collapsed": false,
    "pycharm": {
     "name": "#%%\n"
    }
   }
  },
  {
   "cell_type": "code",
   "execution_count": 15,
   "outputs": [
    {
     "data": {
      "text/plain": "[(0.01, 0.0),\n (0.02, 0.0),\n (0.03, 0.0),\n (0.04, 0.0),\n (0.05, 0.006896551724137931),\n (0.060000000000000005, 0.013793103448275862),\n (0.06999999999999999, 0.027586206896551724),\n (0.08, 0.04827586206896552),\n (0.09, 0.041379310344827586),\n (0.09999999999999999, 0.09655172413793103),\n (0.11, 0.09655172413793103),\n (0.12, 0.09655172413793103),\n (0.13, 0.09655172413793103),\n (0.14, 0.09655172413793103),\n (0.15000000000000002, 0.09655172413793103),\n (0.16, 0.1103448275862069),\n (0.17, 0.12413793103448276),\n (0.18000000000000002, 0.1310344827586207),\n (0.19, 0.13793103448275862),\n (0.2, 0.13793103448275862),\n (0.21000000000000002, 0.13793103448275862),\n (0.22, 0.15172413793103448),\n (0.23, 0.1793103448275862),\n (0.24000000000000002, 0.1793103448275862),\n (0.25, 0.1724137931034483),\n (0.26, 0.18620689655172415),\n (0.27, 0.1793103448275862),\n (0.28, 0.19310344827586207),\n (0.29000000000000004, 0.1724137931034483),\n (0.3, 0.1793103448275862),\n (0.31, 0.1793103448275862),\n (0.32, 0.1724137931034483),\n (0.33, 0.15862068965517243),\n (0.34, 0.1724137931034483),\n (0.35000000000000003, 0.16551724137931034),\n (0.36000000000000004, 0.1793103448275862),\n (0.37, 0.1724137931034483),\n (0.38, 0.1724137931034483),\n (0.39, 0.16551724137931034),\n (0.4, 0.15862068965517243),\n (0.41000000000000003, 0.16551724137931034),\n (0.42000000000000004, 0.16551724137931034),\n (0.43, 0.16551724137931034),\n (0.44, 0.15862068965517243),\n (0.45, 0.15862068965517243),\n (0.46, 0.15862068965517243),\n (0.47000000000000003, 0.16551724137931034),\n (0.48000000000000004, 0.15862068965517243),\n (0.49, 0.15862068965517243),\n (0.5, 0.15862068965517243),\n (0.51, 0.15862068965517243),\n (0.52, 0.15172413793103448),\n (0.53, 0.14482758620689656),\n (0.54, 0.13793103448275862),\n (0.55, 0.14482758620689656),\n (0.56, 0.13793103448275862),\n (0.5700000000000001, 0.13793103448275862),\n (0.5800000000000001, 0.1310344827586207),\n (0.59, 0.12413793103448276),\n (0.6, 0.12413793103448276),\n (0.61, 0.12413793103448276),\n (0.62, 0.12413793103448276),\n (0.63, 0.1310344827586207),\n (0.64, 0.13793103448275862),\n (0.65, 0.13793103448275862),\n (0.66, 0.13793103448275862),\n (0.67, 0.13793103448275862),\n (0.68, 0.13793103448275862),\n (0.6900000000000001, 0.13793103448275862),\n (0.7000000000000001, 0.13793103448275862),\n (0.7100000000000001, 0.13793103448275862),\n (0.72, 0.13793103448275862),\n (0.73, 0.1310344827586207),\n (0.74, 0.1310344827586207),\n (0.75, 0.1310344827586207),\n (0.76, 0.1310344827586207),\n (0.77, 0.1310344827586207),\n (0.78, 0.12413793103448276),\n (0.79, 0.12413793103448276),\n (0.8, 0.11724137931034483),\n (0.81, 0.1103448275862069),\n (0.8200000000000001, 0.10344827586206896),\n (0.8300000000000001, 0.0896551724137931),\n (0.8400000000000001, 0.08275862068965517),\n (0.85, 0.07586206896551724),\n (0.86, 0.07586206896551724),\n (0.87, 0.07586206896551724),\n (0.88, 0.07586206896551724),\n (0.89, 0.07586206896551724),\n (0.9, 0.07586206896551724),\n (0.91, 0.07586206896551724),\n (0.92, 0.07586206896551724),\n (0.93, 0.07586206896551724),\n (0.9400000000000001, 0.07586206896551724),\n (0.9500000000000001, 0.07586206896551724),\n (0.9600000000000001, 0.07586206896551724),\n (0.97, 0.07586206896551724),\n (0.98, 0.07586206896551724),\n (0.99, 0.07586206896551724)]"
     },
     "execution_count": 15,
     "metadata": {},
     "output_type": "execute_result"
    }
   ],
   "source": [
    "results"
   ],
   "metadata": {
    "collapsed": false,
    "pycharm": {
     "name": "#%%\n"
    }
   }
  },
  {
   "cell_type": "code",
   "execution_count": 10,
   "outputs": [],
   "source": [
    "#CONF = .11, val = =0.3448275862068966\n",
    "\n",
    "#pretrained  (0.26, 0.18620689655172415),\n"
   ],
   "metadata": {
    "collapsed": false,
    "pycharm": {
     "name": "#%%\n"
    }
   }
  }
 ],
 "metadata": {
  "kernelspec": {
   "display_name": "Python 3",
   "language": "python",
   "name": "python3"
  },
  "language_info": {
   "codemirror_mode": {
    "name": "ipython",
    "version": 2
   },
   "file_extension": ".py",
   "mimetype": "text/x-python",
   "name": "python",
   "nbconvert_exporter": "python",
   "pygments_lexer": "ipython2",
   "version": "2.7.6"
  }
 },
 "nbformat": 4,
 "nbformat_minor": 0
}