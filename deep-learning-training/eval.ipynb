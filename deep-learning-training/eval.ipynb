{
 "cells": [
  {
   "cell_type": "code",
   "execution_count": 1,
   "metadata": {
    "collapsed": true
   },
   "outputs": [
    {
     "name": "stderr",
     "output_type": "stream",
     "text": [
      "Ultralytics YOLOv8.0.49 🚀 Python-3.9.15 torch-1.13.1 CUDA:0 (NVIDIA GeForce RTX 4090, 24214MiB)\n",
      "Model summary (fused): 168 layers, 3005843 parameters, 0 gradients, 8.1 GFLOPs\n"
     ]
    },
    {
     "data": {
      "text/plain": "0"
     },
     "execution_count": 1,
     "metadata": {},
     "output_type": "execute_result"
    }
   ],
   "source": [
    "from ultralytics import YOLO\n",
    "from os import listdir\n",
    "from os.path import isfile, join\n",
    "import re\n",
    "model = YOLO('./runs/detect/train/weights/best.pt')\n",
    "\n",
    "\n",
    "def get_true_pred(file):\n",
    "    count = 0\n",
    "    with open(file, 'r') as f:\n",
    "        for x in f:\n",
    "            if x[0] == '0':\n",
    "                count += 1\n",
    "    return count\n",
    "def pred_img(image,model=model, conf=.5):\n",
    "    x = model.predict(image, conf=conf,verbose=False)\n",
    "    return len(x[0].boxes.boxes)\n",
    "\n",
    "get_true_pred('data/val/camera2_data_3_161.txt')\n",
    "pred_img('data/val/camera2_data_3_161.jpg')"
   ]
  },
  {
   "cell_type": "code",
   "execution_count": 2,
   "outputs": [],
   "source": [
    "def eval_data(dir,model,conf):\n",
    "    correct = 0\n",
    "    incorrect = 0\n",
    "    imgs = [f for f in listdir(dir) if isfile(join(dir, f))]\n",
    "    imgs = [f for f in imgs if '.jpg' in f]\n",
    "    labels = [re.sub('.jpg','.txt',f) for f in imgs]\n",
    "    true_list = []\n",
    "    incorrect_list = []\n",
    "    for i in range(len(imgs)):\n",
    "        pred = pred_img(dir+'/'+imgs[i],model,conf)\n",
    "        true = get_true_pred(dir+'/'+labels[i])\n",
    "        if pred == true:\n",
    "            correct += 1\n",
    "            true_list.append((pred,imgs[i]))\n",
    "        else:\n",
    "            incorrect += 1\n",
    "            incorrect_list.append((pred,true,imgs[i]))\n",
    "\n",
    "    return correct,incorrect, true_list , incorrect_list\n",
    "\n",
    "correct,incorrect,  true_list , incorrect_list  = eval_data('data/val',model,.2)"
   ],
   "metadata": {
    "collapsed": false,
    "pycharm": {
     "name": "#%%\n"
    }
   }
  },
  {
   "cell_type": "code",
   "execution_count": 3,
   "outputs": [
    {
     "data": {
      "text/plain": "0.2827586206896552"
     },
     "execution_count": 3,
     "metadata": {},
     "output_type": "execute_result"
    }
   ],
   "source": [
    "correct/(correct+incorrect)"
   ],
   "metadata": {
    "collapsed": false,
    "pycharm": {
     "name": "#%%\n"
    }
   }
  },
  {
   "cell_type": "code",
   "execution_count": 4,
   "outputs": [
    {
     "data": {
      "text/plain": "104"
     },
     "execution_count": 4,
     "metadata": {},
     "output_type": "execute_result"
    }
   ],
   "source": [
    "incorrect"
   ],
   "metadata": {
    "collapsed": false,
    "pycharm": {
     "name": "#%%\n"
    }
   }
  },
  {
   "cell_type": "code",
   "execution_count": 5,
   "outputs": [
    {
     "data": {
      "text/plain": "[(4, 'camera2_data_3_548.jpg'),\n (1, 'camera2_data_3_571.jpg'),\n (2, 'camera2_data_3_565.jpg'),\n (2, 'camera2_data_3_132.jpg'),\n (0, 'camera2_data_3_551.jpg'),\n (6, 'camera_2_data_2_18.jpg'),\n (4, 'camera_1_data_2_11.jpg'),\n (0, 'camera2_data_3_209.jpg'),\n (4, 'camera2_data_3_78.jpg'),\n (0, 'camera2_data_3_56.jpg'),\n (4, 'camera_1_data_2_59.jpg'),\n (2, 'camera2_data_3_103.jpg'),\n (1, 'camera_2_data_5_203.jpg'),\n (5, 'camera_1_data_2_3.jpg'),\n (0, 'camera2_data_3_405.jpg'),\n (1, 'camera_2_data_5_63.jpg'),\n (1, 'camera_2_data_5_98.jpg'),\n (1, 'camera_1_data_5_47.jpg'),\n (0, 'camera2_data_3_363.jpg'),\n (0, 'camera2_data_3_189.jpg'),\n (1, 'camera2_data_3_370.jpg'),\n (3, 'camera_1_data_2_236.jpg'),\n (2, 'camera2_data_3_413.jpg'),\n (2, 'camera2_data_3_317.jpg'),\n (0, 'camera2_data_3_365.jpg'),\n (2, 'camera2_data_3_411.jpg'),\n (0, 'camera2_data_3_393.jpg'),\n (0, 'camera2_data_3_207.jpg'),\n (1, 'camera_2_data_5_28.jpg'),\n (1, 'camera_1_data_5_139.jpg'),\n (2, 'camera2_data_3_87.jpg'),\n (2, 'camera_1_data_5_197.jpg'),\n (0, 'camera2_data_3_146.jpg'),\n (0, 'camera2_data_3_403.jpg'),\n (2, 'camera2_data_3_527.jpg'),\n (1, 'camera_1_data_5_89.jpg'),\n (1, 'camera_2_data_5_103.jpg'),\n (5, 'camera_1_data_2_144.jpg'),\n (1, 'camera_2_data_5_162.jpg'),\n (3, 'camera2_data_3_243.jpg'),\n (1, 'camera_2_data_5_213.jpg')]"
     },
     "execution_count": 5,
     "metadata": {},
     "output_type": "execute_result"
    }
   ],
   "source": [
    "true_list"
   ],
   "metadata": {
    "collapsed": false,
    "pycharm": {
     "name": "#%%\n"
    }
   }
  },
  {
   "cell_type": "code",
   "execution_count": 6,
   "outputs": [
    {
     "data": {
      "text/plain": "[(3, 4, 'camera_2_data_5_16.jpg'),\n (4, 2, 'camera2_data_3_555.jpg'),\n (1, 2, 'camera_1_data_5_183.jpg'),\n (4, 5, 'camera_1_data_2_180.jpg'),\n (3, 5, 'camera_1_data_2_159.jpg'),\n (4, 2, 'camera2_data_3_153.jpg'),\n (4, 6, 'camera2_data_3_278.jpg'),\n (4, 5, 'camera2_data_3_547.jpg'),\n (3, 4, 'camera_1_data_2_41.jpg'),\n (4, 8, 'camera_2_data_2_75.jpg'),\n (1, 2, 'camera_2_data_5_80.jpg'),\n (0, 3, 'camera_1_data_5_126.jpg'),\n (3, 7, 'camera_2_data_2_69.jpg'),\n (2, 7, 'camera_2_data_2_53.jpg'),\n (4, 5, 'camera_2_data_5_81.jpg'),\n (3, 4, 'camera_1_data_2_23.jpg'),\n (4, 3, 'camera2_data_3_6.jpg'),\n (3, 4, 'camera_1_data_2_206.jpg'),\n (3, 8, 'camera_2_data_2_31.jpg'),\n (3, 2, 'camera2_data_3_369.jpg'),\n (2, 4, 'camera2_data_3_330.jpg'),\n (3, 7, 'camera2_data_3_256.jpg'),\n (2, 4, 'camera_1_data_2_25.jpg'),\n (0, 1, 'camera2_data_3_161.jpg'),\n (3, 4, 'camera2_data_3_182.jpg'),\n (0, 3, 'camera_1_data_5_215.jpg'),\n (1, 2, 'camera_2_data_5_7.jpg'),\n (3, 6, 'camera_1_data_5_153.jpg'),\n (2, 5, 'camera_1_data_2_175.jpg'),\n (0, 1, 'camera_1_data_5_66.jpg'),\n (3, 2, 'camera2_data_3_581.jpg'),\n (3, 4, 'camera_1_data_2_85.jpg'),\n (0, 4, 'camera_1_data_5_172.jpg'),\n (1, 2, 'camera2_data_3_47.jpg'),\n (4, 2, 'camera2_data_3_557.jpg'),\n (3, 4, 'camera_2_data_2_23.jpg'),\n (0, 2, 'camera_1_data_5_224.jpg'),\n (4, 3, 'camera2_data_3_534.jpg'),\n (5, 6, 'camera2_data_3_323.jpg'),\n (1, 7, 'camera_2_data_5_27.jpg'),\n (3, 4, 'camera_1_data_2_66.jpg'),\n (5, 3, 'camera2_data_3_420.jpg'),\n (4, 3, 'camera2_data_3_240.jpg'),\n (3, 4, 'camera_1_data_2_205.jpg'),\n (4, 2, 'camera2_data_3_333.jpg'),\n (1, 2, 'camera_2_data_5_72.jpg'),\n (2, 5, 'camera_1_data_5_195.jpg'),\n (4, 5, 'camera2_data_3_561.jpg'),\n (1, 3, 'camera_1_data_5_74.jpg'),\n (3, 4, 'camera2_data_3_550.jpg'),\n (2, 6, 'camera_1_data_5_171.jpg'),\n (2, 5, 'camera_1_data_2_150.jpg'),\n (3, 5, 'camera_2_data_5_128.jpg'),\n (2, 3, 'camera_1_data_2_157.jpg'),\n (3, 5, 'camera_2_data_5_54.jpg'),\n (4, 5, 'camera_1_data_2_162.jpg'),\n (2, 4, 'camera_1_data_2_140.jpg'),\n (3, 2, 'camera2_data_3_434.jpg'),\n (2, 6, 'camera_2_data_2_62.jpg'),\n (1, 2, 'camera_2_data_5_96.jpg'),\n (3, 2, 'camera2_data_3_260.jpg'),\n (0, 1, 'camera_1_data_5_97.jpg'),\n (5, 8, 'camera_2_data_2_63.jpg'),\n (4, 5, 'camera2_data_3_520.jpg'),\n (5, 6, 'camera_2_data_2_15.jpg'),\n (3, 7, 'camera_2_data_2_47.jpg'),\n (3, 4, 'camera2_data_3_144.jpg'),\n (1, 4, 'camera_1_data_2_195.jpg'),\n (4, 2, 'camera2_data_3_334.jpg'),\n (3, 8, 'camera_2_data_2_85.jpg'),\n (2, 3, 'camera2_data_3_5.jpg'),\n (1, 2, 'camera2_data_3_575.jpg'),\n (3, 4, 'camera_1_data_2_231.jpg'),\n (6, 5, 'camera2_data_3_229.jpg'),\n (3, 4, 'camera_1_data_2_56.jpg'),\n (3, 4, 'camera_1_data_2_263.jpg'),\n (2, 3, 'camera_1_data_2_125.jpg'),\n (3, 5, 'camera_2_data_2_65.jpg'),\n (1, 4, 'camera_1_data_2_191.jpg'),\n (4, 5, 'camera2_data_3_506.jpg'),\n (8, 6, 'camera2_data_3_501.jpg'),\n (7, 5, 'camera_2_data_2_9.jpg'),\n (3, 6, 'camera_2_data_5_183.jpg'),\n (4, 7, 'camera_2_data_5_70.jpg'),\n (2, 7, 'camera_1_data_5_27.jpg'),\n (3, 4, 'camera_1_data_2_272.jpg'),\n (3, 5, 'camera_1_data_2_210.jpg'),\n (2, 7, 'camera_1_data_5_24.jpg'),\n (2, 5, 'camera_1_data_2_111.jpg'),\n (3, 5, 'camera_2_data_2_27.jpg'),\n (0, 1, 'camera_2_data_5_12.jpg'),\n (2, 4, 'camera_1_data_2_29.jpg'),\n (2, 8, 'camera_2_data_5_61.jpg'),\n (0, 6, 'camera_1_data_5_169.jpg'),\n (3, 4, 'camera_1_data_2_63.jpg'),\n (3, 4, 'camera_1_data_2_260.jpg'),\n (5, 8, 'camera_2_data_2_51.jpg'),\n (3, 5, 'camera_1_data_2_253.jpg'),\n (1, 2, 'camera_2_data_5_71.jpg'),\n (4, 2, 'camera2_data_3_536.jpg'),\n (2, 4, 'camera_2_data_5_222.jpg'),\n (4, 5, 'camera2_data_3_287.jpg'),\n (0, 1, 'camera_1_data_5_39.jpg'),\n (4, 5, 'camera2_data_3_321.jpg')]"
     },
     "execution_count": 6,
     "metadata": {},
     "output_type": "execute_result"
    }
   ],
   "source": [
    "incorrect_list"
   ],
   "metadata": {
    "collapsed": false,
    "pycharm": {
     "name": "#%%\n"
    }
   }
  },
  {
   "cell_type": "code",
   "execution_count": 7,
   "outputs": [],
   "source": [
    "import numpy as np"
   ],
   "metadata": {
    "collapsed": false,
    "pycharm": {
     "name": "#%%\n"
    }
   }
  },
  {
   "cell_type": "code",
   "execution_count": 8,
   "outputs": [
    {
     "name": "stdout",
     "output_type": "stream",
     "text": [
      "conf=0.01, acc=0.07586206896551724\n",
      "conf=0.02, acc=0.07586206896551724\n",
      "conf=0.03, acc=0.0896551724137931\n",
      "conf=0.04, acc=0.09655172413793103\n",
      "conf=0.05, acc=0.11724137931034483\n",
      "conf=0.060000000000000005, acc=0.12413793103448276\n",
      "conf=0.06999999999999999, acc=0.1310344827586207\n",
      "conf=0.08, acc=0.19310344827586207\n",
      "conf=0.09, acc=0.2413793103448276\n",
      "conf=0.09999999999999999, acc=0.296551724137931\n",
      "conf=0.11, acc=0.3448275862068966\n",
      "conf=0.12, acc=0.3448275862068966\n",
      "conf=0.13, acc=0.3310344827586207\n",
      "conf=0.14, acc=0.2827586206896552\n",
      "conf=0.15000000000000002, acc=0.27586206896551724\n",
      "conf=0.16, acc=0.2689655172413793\n",
      "conf=0.17, acc=0.2620689655172414\n",
      "conf=0.18000000000000002, acc=0.33793103448275863\n",
      "conf=0.19, acc=0.3103448275862069\n",
      "conf=0.2, acc=0.2827586206896552\n",
      "conf=0.21000000000000002, acc=0.25517241379310346\n",
      "conf=0.22, acc=0.2689655172413793\n",
      "conf=0.23, acc=0.27586206896551724\n",
      "conf=0.24000000000000002, acc=0.2620689655172414\n",
      "conf=0.25, acc=0.23448275862068965\n",
      "conf=0.26, acc=0.2206896551724138\n",
      "conf=0.27, acc=0.18620689655172415\n",
      "conf=0.28, acc=0.16551724137931034\n",
      "conf=0.29000000000000004, acc=0.1793103448275862\n",
      "conf=0.3, acc=0.1724137931034483\n",
      "conf=0.31, acc=0.16551724137931034\n",
      "conf=0.32, acc=0.16551724137931034\n",
      "conf=0.33, acc=0.15862068965517243\n",
      "conf=0.34, acc=0.15862068965517243\n",
      "conf=0.35000000000000003, acc=0.14482758620689656\n"
     ]
    },
    {
     "ename": "KeyboardInterrupt",
     "evalue": "",
     "output_type": "error",
     "traceback": [
      "\u001B[0;31m---------------------------------------------------------------------------\u001B[0m",
      "\u001B[0;31mKeyboardInterrupt\u001B[0m                         Traceback (most recent call last)",
      "Cell \u001B[0;32mIn[8], line 5\u001B[0m\n\u001B[1;32m      3\u001B[0m max_conf \u001B[38;5;241m=\u001B[39m \u001B[38;5;241m0\u001B[39m\n\u001B[1;32m      4\u001B[0m max_accuracy \u001B[38;5;241m=\u001B[39m \u001B[38;5;241m0\u001B[39m\n\u001B[0;32m----> 5\u001B[0m correct,incorrect,  true_list , incorrect_list  \u001B[38;5;241m=\u001B[39m \u001B[43meval_data\u001B[49m\u001B[43m(\u001B[49m\u001B[38;5;124;43m'\u001B[39;49m\u001B[38;5;124;43mdata/val\u001B[39;49m\u001B[38;5;124;43m'\u001B[39;49m\u001B[43m,\u001B[49m\u001B[43mmodel\u001B[49m\u001B[43m,\u001B[49m\u001B[43mi\u001B[49m\u001B[43m)\u001B[49m\n\u001B[1;32m      6\u001B[0m acc \u001B[38;5;241m=\u001B[39m correct\u001B[38;5;241m/\u001B[39m(correct\u001B[38;5;241m+\u001B[39mincorrect)\n\u001B[1;32m      7\u001B[0m \u001B[38;5;28mprint\u001B[39m(\u001B[38;5;124mf\u001B[39m\u001B[38;5;124m'\u001B[39m\u001B[38;5;124mconf=\u001B[39m\u001B[38;5;132;01m{\u001B[39;00mi\u001B[38;5;132;01m}\u001B[39;00m\u001B[38;5;124m, acc=\u001B[39m\u001B[38;5;132;01m{\u001B[39;00macc\u001B[38;5;132;01m}\u001B[39;00m\u001B[38;5;124m'\u001B[39m)\n",
      "Cell \u001B[0;32mIn[2], line 10\u001B[0m, in \u001B[0;36meval_data\u001B[0;34m(dir, model, conf)\u001B[0m\n\u001B[1;32m      8\u001B[0m incorrect_list \u001B[38;5;241m=\u001B[39m []\n\u001B[1;32m      9\u001B[0m \u001B[38;5;28;01mfor\u001B[39;00m i \u001B[38;5;129;01min\u001B[39;00m \u001B[38;5;28mrange\u001B[39m(\u001B[38;5;28mlen\u001B[39m(imgs)):\n\u001B[0;32m---> 10\u001B[0m     pred \u001B[38;5;241m=\u001B[39m \u001B[43mpred_img\u001B[49m\u001B[43m(\u001B[49m\u001B[38;5;28;43mdir\u001B[39;49m\u001B[38;5;241;43m+\u001B[39;49m\u001B[38;5;124;43m'\u001B[39;49m\u001B[38;5;124;43m/\u001B[39;49m\u001B[38;5;124;43m'\u001B[39;49m\u001B[38;5;241;43m+\u001B[39;49m\u001B[43mimgs\u001B[49m\u001B[43m[\u001B[49m\u001B[43mi\u001B[49m\u001B[43m]\u001B[49m\u001B[43m,\u001B[49m\u001B[43mmodel\u001B[49m\u001B[43m,\u001B[49m\u001B[43mconf\u001B[49m\u001B[43m)\u001B[49m\n\u001B[1;32m     11\u001B[0m     true \u001B[38;5;241m=\u001B[39m get_true_pred(\u001B[38;5;28mdir\u001B[39m\u001B[38;5;241m+\u001B[39m\u001B[38;5;124m'\u001B[39m\u001B[38;5;124m/\u001B[39m\u001B[38;5;124m'\u001B[39m\u001B[38;5;241m+\u001B[39mlabels[i])\n\u001B[1;32m     12\u001B[0m     \u001B[38;5;28;01mif\u001B[39;00m pred \u001B[38;5;241m==\u001B[39m true:\n",
      "Cell \u001B[0;32mIn[1], line 16\u001B[0m, in \u001B[0;36mpred_img\u001B[0;34m(image, model, conf)\u001B[0m\n\u001B[1;32m     15\u001B[0m \u001B[38;5;28;01mdef\u001B[39;00m \u001B[38;5;21mpred_img\u001B[39m(image,model\u001B[38;5;241m=\u001B[39mmodel, conf\u001B[38;5;241m=\u001B[39m\u001B[38;5;241m.5\u001B[39m):\n\u001B[0;32m---> 16\u001B[0m     x \u001B[38;5;241m=\u001B[39m \u001B[43mmodel\u001B[49m\u001B[38;5;241;43m.\u001B[39;49m\u001B[43mpredict\u001B[49m\u001B[43m(\u001B[49m\u001B[43mimage\u001B[49m\u001B[43m,\u001B[49m\u001B[43m \u001B[49m\u001B[43mconf\u001B[49m\u001B[38;5;241;43m=\u001B[39;49m\u001B[43mconf\u001B[49m\u001B[43m,\u001B[49m\u001B[43mverbose\u001B[49m\u001B[38;5;241;43m=\u001B[39;49m\u001B[38;5;28;43;01mFalse\u001B[39;49;00m\u001B[43m)\u001B[49m\n\u001B[1;32m     17\u001B[0m     \u001B[38;5;28;01mreturn\u001B[39;00m \u001B[38;5;28mlen\u001B[39m(x[\u001B[38;5;241m0\u001B[39m]\u001B[38;5;241m.\u001B[39mboxes\u001B[38;5;241m.\u001B[39mboxes)\n",
      "File \u001B[0;32m~/anaconda3/envs/capstone/lib/python3.9/site-packages/torch/autograd/grad_mode.py:27\u001B[0m, in \u001B[0;36m_DecoratorContextManager.__call__.<locals>.decorate_context\u001B[0;34m(*args, **kwargs)\u001B[0m\n\u001B[1;32m     24\u001B[0m \u001B[38;5;129m@functools\u001B[39m\u001B[38;5;241m.\u001B[39mwraps(func)\n\u001B[1;32m     25\u001B[0m \u001B[38;5;28;01mdef\u001B[39;00m \u001B[38;5;21mdecorate_context\u001B[39m(\u001B[38;5;241m*\u001B[39margs, \u001B[38;5;241m*\u001B[39m\u001B[38;5;241m*\u001B[39mkwargs):\n\u001B[1;32m     26\u001B[0m     \u001B[38;5;28;01mwith\u001B[39;00m \u001B[38;5;28mself\u001B[39m\u001B[38;5;241m.\u001B[39mclone():\n\u001B[0;32m---> 27\u001B[0m         \u001B[38;5;28;01mreturn\u001B[39;00m \u001B[43mfunc\u001B[49m\u001B[43m(\u001B[49m\u001B[38;5;241;43m*\u001B[39;49m\u001B[43margs\u001B[49m\u001B[43m,\u001B[49m\u001B[43m \u001B[49m\u001B[38;5;241;43m*\u001B[39;49m\u001B[38;5;241;43m*\u001B[39;49m\u001B[43mkwargs\u001B[49m\u001B[43m)\u001B[49m\n",
      "File \u001B[0;32m~/anaconda3/envs/capstone/lib/python3.9/site-packages/ultralytics/yolo/engine/model.py:220\u001B[0m, in \u001B[0;36mYOLO.predict\u001B[0;34m(self, source, stream, **kwargs)\u001B[0m\n\u001B[1;32m    218\u001B[0m     \u001B[38;5;28mself\u001B[39m\u001B[38;5;241m.\u001B[39mpredictor\u001B[38;5;241m.\u001B[39margs \u001B[38;5;241m=\u001B[39m get_cfg(\u001B[38;5;28mself\u001B[39m\u001B[38;5;241m.\u001B[39mpredictor\u001B[38;5;241m.\u001B[39margs, overrides)\n\u001B[1;32m    219\u001B[0m is_cli \u001B[38;5;241m=\u001B[39m sys\u001B[38;5;241m.\u001B[39margv[\u001B[38;5;241m0\u001B[39m]\u001B[38;5;241m.\u001B[39mendswith(\u001B[38;5;124m'\u001B[39m\u001B[38;5;124myolo\u001B[39m\u001B[38;5;124m'\u001B[39m) \u001B[38;5;129;01mor\u001B[39;00m sys\u001B[38;5;241m.\u001B[39margv[\u001B[38;5;241m0\u001B[39m]\u001B[38;5;241m.\u001B[39mendswith(\u001B[38;5;124m'\u001B[39m\u001B[38;5;124multralytics\u001B[39m\u001B[38;5;124m'\u001B[39m)\n\u001B[0;32m--> 220\u001B[0m \u001B[38;5;28;01mreturn\u001B[39;00m \u001B[38;5;28mself\u001B[39m\u001B[38;5;241m.\u001B[39mpredictor\u001B[38;5;241m.\u001B[39mpredict_cli(source\u001B[38;5;241m=\u001B[39msource) \u001B[38;5;28;01mif\u001B[39;00m is_cli \u001B[38;5;28;01melse\u001B[39;00m \u001B[38;5;28;43mself\u001B[39;49m\u001B[38;5;241;43m.\u001B[39;49m\u001B[43mpredictor\u001B[49m\u001B[43m(\u001B[49m\u001B[43msource\u001B[49m\u001B[38;5;241;43m=\u001B[39;49m\u001B[43msource\u001B[49m\u001B[43m,\u001B[49m\u001B[43m \u001B[49m\u001B[43mstream\u001B[49m\u001B[38;5;241;43m=\u001B[39;49m\u001B[43mstream\u001B[49m\u001B[43m)\u001B[49m\n",
      "File \u001B[0;32m~/anaconda3/envs/capstone/lib/python3.9/site-packages/ultralytics/yolo/engine/predictor.py:114\u001B[0m, in \u001B[0;36mBasePredictor.__call__\u001B[0;34m(self, source, model, stream)\u001B[0m\n\u001B[1;32m    112\u001B[0m     \u001B[38;5;28;01mreturn\u001B[39;00m \u001B[38;5;28mself\u001B[39m\u001B[38;5;241m.\u001B[39mstream_inference(source, model)\n\u001B[1;32m    113\u001B[0m \u001B[38;5;28;01melse\u001B[39;00m:\n\u001B[0;32m--> 114\u001B[0m     \u001B[38;5;28;01mreturn\u001B[39;00m \u001B[38;5;28;43mlist\u001B[39;49m\u001B[43m(\u001B[49m\u001B[38;5;28;43mself\u001B[39;49m\u001B[38;5;241;43m.\u001B[39;49m\u001B[43mstream_inference\u001B[49m\u001B[43m(\u001B[49m\u001B[43msource\u001B[49m\u001B[43m,\u001B[49m\u001B[43m \u001B[49m\u001B[43mmodel\u001B[49m\u001B[43m)\u001B[49m\u001B[43m)\u001B[49m\n",
      "File \u001B[0;32m~/anaconda3/envs/capstone/lib/python3.9/site-packages/torch/autograd/grad_mode.py:43\u001B[0m, in \u001B[0;36m_DecoratorContextManager._wrap_generator.<locals>.generator_context\u001B[0;34m(*args, **kwargs)\u001B[0m\n\u001B[1;32m     40\u001B[0m \u001B[38;5;28;01mtry\u001B[39;00m:\n\u001B[1;32m     41\u001B[0m     \u001B[38;5;66;03m# Issuing `None` to a generator fires it up\u001B[39;00m\n\u001B[1;32m     42\u001B[0m     \u001B[38;5;28;01mwith\u001B[39;00m \u001B[38;5;28mself\u001B[39m\u001B[38;5;241m.\u001B[39mclone():\n\u001B[0;32m---> 43\u001B[0m         response \u001B[38;5;241m=\u001B[39m \u001B[43mgen\u001B[49m\u001B[38;5;241;43m.\u001B[39;49m\u001B[43msend\u001B[49m\u001B[43m(\u001B[49m\u001B[38;5;28;43;01mNone\u001B[39;49;00m\u001B[43m)\u001B[49m\n\u001B[1;32m     45\u001B[0m     \u001B[38;5;28;01mwhile\u001B[39;00m \u001B[38;5;28;01mTrue\u001B[39;00m:\n\u001B[1;32m     46\u001B[0m         \u001B[38;5;28;01mtry\u001B[39;00m:\n\u001B[1;32m     47\u001B[0m             \u001B[38;5;66;03m# Forward the response to our caller and get its next request\u001B[39;00m\n",
      "File \u001B[0;32m~/anaconda3/envs/capstone/lib/python3.9/site-packages/ultralytics/yolo/engine/predictor.py:172\u001B[0m, in \u001B[0;36mBasePredictor.stream_inference\u001B[0;34m(self, source, model)\u001B[0m\n\u001B[1;32m    170\u001B[0m \u001B[38;5;66;03m# inference\u001B[39;00m\n\u001B[1;32m    171\u001B[0m \u001B[38;5;28;01mwith\u001B[39;00m \u001B[38;5;28mself\u001B[39m\u001B[38;5;241m.\u001B[39mdt[\u001B[38;5;241m1\u001B[39m]:\n\u001B[0;32m--> 172\u001B[0m     preds \u001B[38;5;241m=\u001B[39m \u001B[38;5;28;43mself\u001B[39;49m\u001B[38;5;241;43m.\u001B[39;49m\u001B[43mmodel\u001B[49m\u001B[43m(\u001B[49m\u001B[43mim\u001B[49m\u001B[43m,\u001B[49m\u001B[43m \u001B[49m\u001B[43maugment\u001B[49m\u001B[38;5;241;43m=\u001B[39;49m\u001B[38;5;28;43mself\u001B[39;49m\u001B[38;5;241;43m.\u001B[39;49m\u001B[43margs\u001B[49m\u001B[38;5;241;43m.\u001B[39;49m\u001B[43maugment\u001B[49m\u001B[43m,\u001B[49m\u001B[43m \u001B[49m\u001B[43mvisualize\u001B[49m\u001B[38;5;241;43m=\u001B[39;49m\u001B[43mvisualize\u001B[49m\u001B[43m)\u001B[49m\n\u001B[1;32m    174\u001B[0m \u001B[38;5;66;03m# postprocess\u001B[39;00m\n\u001B[1;32m    175\u001B[0m \u001B[38;5;28;01mwith\u001B[39;00m \u001B[38;5;28mself\u001B[39m\u001B[38;5;241m.\u001B[39mdt[\u001B[38;5;241m2\u001B[39m]:\n",
      "File \u001B[0;32m~/anaconda3/envs/capstone/lib/python3.9/site-packages/torch/nn/modules/module.py:1194\u001B[0m, in \u001B[0;36mModule._call_impl\u001B[0;34m(self, *input, **kwargs)\u001B[0m\n\u001B[1;32m   1190\u001B[0m \u001B[38;5;66;03m# If we don't have any hooks, we want to skip the rest of the logic in\u001B[39;00m\n\u001B[1;32m   1191\u001B[0m \u001B[38;5;66;03m# this function, and just call forward.\u001B[39;00m\n\u001B[1;32m   1192\u001B[0m \u001B[38;5;28;01mif\u001B[39;00m \u001B[38;5;129;01mnot\u001B[39;00m (\u001B[38;5;28mself\u001B[39m\u001B[38;5;241m.\u001B[39m_backward_hooks \u001B[38;5;129;01mor\u001B[39;00m \u001B[38;5;28mself\u001B[39m\u001B[38;5;241m.\u001B[39m_forward_hooks \u001B[38;5;129;01mor\u001B[39;00m \u001B[38;5;28mself\u001B[39m\u001B[38;5;241m.\u001B[39m_forward_pre_hooks \u001B[38;5;129;01mor\u001B[39;00m _global_backward_hooks\n\u001B[1;32m   1193\u001B[0m         \u001B[38;5;129;01mor\u001B[39;00m _global_forward_hooks \u001B[38;5;129;01mor\u001B[39;00m _global_forward_pre_hooks):\n\u001B[0;32m-> 1194\u001B[0m     \u001B[38;5;28;01mreturn\u001B[39;00m \u001B[43mforward_call\u001B[49m\u001B[43m(\u001B[49m\u001B[38;5;241;43m*\u001B[39;49m\u001B[38;5;28;43minput\u001B[39;49m\u001B[43m,\u001B[49m\u001B[43m \u001B[49m\u001B[38;5;241;43m*\u001B[39;49m\u001B[38;5;241;43m*\u001B[39;49m\u001B[43mkwargs\u001B[49m\u001B[43m)\u001B[49m\n\u001B[1;32m   1195\u001B[0m \u001B[38;5;66;03m# Do not call functions when jit is used\u001B[39;00m\n\u001B[1;32m   1196\u001B[0m full_backward_hooks, non_full_backward_hooks \u001B[38;5;241m=\u001B[39m [], []\n",
      "File \u001B[0;32m~/anaconda3/envs/capstone/lib/python3.9/site-packages/ultralytics/nn/autobackend.py:290\u001B[0m, in \u001B[0;36mAutoBackend.forward\u001B[0;34m(self, im, augment, visualize)\u001B[0m\n\u001B[1;32m    287\u001B[0m     im \u001B[38;5;241m=\u001B[39m im\u001B[38;5;241m.\u001B[39mpermute(\u001B[38;5;241m0\u001B[39m, \u001B[38;5;241m2\u001B[39m, \u001B[38;5;241m3\u001B[39m, \u001B[38;5;241m1\u001B[39m)  \u001B[38;5;66;03m# torch BCHW to numpy BHWC shape(1,320,192,3)\u001B[39;00m\n\u001B[1;32m    289\u001B[0m \u001B[38;5;28;01mif\u001B[39;00m \u001B[38;5;28mself\u001B[39m\u001B[38;5;241m.\u001B[39mpt \u001B[38;5;129;01mor\u001B[39;00m \u001B[38;5;28mself\u001B[39m\u001B[38;5;241m.\u001B[39mnn_module:  \u001B[38;5;66;03m# PyTorch\u001B[39;00m\n\u001B[0;32m--> 290\u001B[0m     y \u001B[38;5;241m=\u001B[39m \u001B[38;5;28mself\u001B[39m\u001B[38;5;241m.\u001B[39mmodel(im, augment\u001B[38;5;241m=\u001B[39maugment, visualize\u001B[38;5;241m=\u001B[39mvisualize) \u001B[38;5;28;01mif\u001B[39;00m augment \u001B[38;5;129;01mor\u001B[39;00m visualize \u001B[38;5;28;01melse\u001B[39;00m \u001B[38;5;28;43mself\u001B[39;49m\u001B[38;5;241;43m.\u001B[39;49m\u001B[43mmodel\u001B[49m\u001B[43m(\u001B[49m\u001B[43mim\u001B[49m\u001B[43m)\u001B[49m\n\u001B[1;32m    291\u001B[0m \u001B[38;5;28;01melif\u001B[39;00m \u001B[38;5;28mself\u001B[39m\u001B[38;5;241m.\u001B[39mjit:  \u001B[38;5;66;03m# TorchScript\u001B[39;00m\n\u001B[1;32m    292\u001B[0m     y \u001B[38;5;241m=\u001B[39m \u001B[38;5;28mself\u001B[39m\u001B[38;5;241m.\u001B[39mmodel(im)\n",
      "File \u001B[0;32m~/anaconda3/envs/capstone/lib/python3.9/site-packages/torch/nn/modules/module.py:1194\u001B[0m, in \u001B[0;36mModule._call_impl\u001B[0;34m(self, *input, **kwargs)\u001B[0m\n\u001B[1;32m   1190\u001B[0m \u001B[38;5;66;03m# If we don't have any hooks, we want to skip the rest of the logic in\u001B[39;00m\n\u001B[1;32m   1191\u001B[0m \u001B[38;5;66;03m# this function, and just call forward.\u001B[39;00m\n\u001B[1;32m   1192\u001B[0m \u001B[38;5;28;01mif\u001B[39;00m \u001B[38;5;129;01mnot\u001B[39;00m (\u001B[38;5;28mself\u001B[39m\u001B[38;5;241m.\u001B[39m_backward_hooks \u001B[38;5;129;01mor\u001B[39;00m \u001B[38;5;28mself\u001B[39m\u001B[38;5;241m.\u001B[39m_forward_hooks \u001B[38;5;129;01mor\u001B[39;00m \u001B[38;5;28mself\u001B[39m\u001B[38;5;241m.\u001B[39m_forward_pre_hooks \u001B[38;5;129;01mor\u001B[39;00m _global_backward_hooks\n\u001B[1;32m   1193\u001B[0m         \u001B[38;5;129;01mor\u001B[39;00m _global_forward_hooks \u001B[38;5;129;01mor\u001B[39;00m _global_forward_pre_hooks):\n\u001B[0;32m-> 1194\u001B[0m     \u001B[38;5;28;01mreturn\u001B[39;00m \u001B[43mforward_call\u001B[49m\u001B[43m(\u001B[49m\u001B[38;5;241;43m*\u001B[39;49m\u001B[38;5;28;43minput\u001B[39;49m\u001B[43m,\u001B[49m\u001B[43m \u001B[49m\u001B[38;5;241;43m*\u001B[39;49m\u001B[38;5;241;43m*\u001B[39;49m\u001B[43mkwargs\u001B[49m\u001B[43m)\u001B[49m\n\u001B[1;32m   1195\u001B[0m \u001B[38;5;66;03m# Do not call functions when jit is used\u001B[39;00m\n\u001B[1;32m   1196\u001B[0m full_backward_hooks, non_full_backward_hooks \u001B[38;5;241m=\u001B[39m [], []\n",
      "File \u001B[0;32m~/anaconda3/envs/capstone/lib/python3.9/site-packages/ultralytics/nn/tasks.py:199\u001B[0m, in \u001B[0;36mDetectionModel.forward\u001B[0;34m(self, x, augment, profile, visualize)\u001B[0m\n\u001B[1;32m    197\u001B[0m \u001B[38;5;28;01mif\u001B[39;00m augment:\n\u001B[1;32m    198\u001B[0m     \u001B[38;5;28;01mreturn\u001B[39;00m \u001B[38;5;28mself\u001B[39m\u001B[38;5;241m.\u001B[39m_forward_augment(x)  \u001B[38;5;66;03m# augmented inference, None\u001B[39;00m\n\u001B[0;32m--> 199\u001B[0m \u001B[38;5;28;01mreturn\u001B[39;00m \u001B[38;5;28;43mself\u001B[39;49m\u001B[38;5;241;43m.\u001B[39;49m\u001B[43m_forward_once\u001B[49m\u001B[43m(\u001B[49m\u001B[43mx\u001B[49m\u001B[43m,\u001B[49m\u001B[43m \u001B[49m\u001B[43mprofile\u001B[49m\u001B[43m,\u001B[49m\u001B[43m \u001B[49m\u001B[43mvisualize\u001B[49m\u001B[43m)\u001B[49m\n",
      "File \u001B[0;32m~/anaconda3/envs/capstone/lib/python3.9/site-packages/ultralytics/nn/tasks.py:58\u001B[0m, in \u001B[0;36mBaseModel._forward_once\u001B[0;34m(self, x, profile, visualize)\u001B[0m\n\u001B[1;32m     56\u001B[0m \u001B[38;5;28;01mif\u001B[39;00m profile:\n\u001B[1;32m     57\u001B[0m     \u001B[38;5;28mself\u001B[39m\u001B[38;5;241m.\u001B[39m_profile_one_layer(m, x, dt)\n\u001B[0;32m---> 58\u001B[0m x \u001B[38;5;241m=\u001B[39m \u001B[43mm\u001B[49m\u001B[43m(\u001B[49m\u001B[43mx\u001B[49m\u001B[43m)\u001B[49m  \u001B[38;5;66;03m# run\u001B[39;00m\n\u001B[1;32m     59\u001B[0m y\u001B[38;5;241m.\u001B[39mappend(x \u001B[38;5;28;01mif\u001B[39;00m m\u001B[38;5;241m.\u001B[39mi \u001B[38;5;129;01min\u001B[39;00m \u001B[38;5;28mself\u001B[39m\u001B[38;5;241m.\u001B[39msave \u001B[38;5;28;01melse\u001B[39;00m \u001B[38;5;28;01mNone\u001B[39;00m)  \u001B[38;5;66;03m# save output\u001B[39;00m\n\u001B[1;32m     60\u001B[0m \u001B[38;5;28;01mif\u001B[39;00m visualize:\n",
      "File \u001B[0;32m~/anaconda3/envs/capstone/lib/python3.9/site-packages/torch/nn/modules/module.py:1194\u001B[0m, in \u001B[0;36mModule._call_impl\u001B[0;34m(self, *input, **kwargs)\u001B[0m\n\u001B[1;32m   1190\u001B[0m \u001B[38;5;66;03m# If we don't have any hooks, we want to skip the rest of the logic in\u001B[39;00m\n\u001B[1;32m   1191\u001B[0m \u001B[38;5;66;03m# this function, and just call forward.\u001B[39;00m\n\u001B[1;32m   1192\u001B[0m \u001B[38;5;28;01mif\u001B[39;00m \u001B[38;5;129;01mnot\u001B[39;00m (\u001B[38;5;28mself\u001B[39m\u001B[38;5;241m.\u001B[39m_backward_hooks \u001B[38;5;129;01mor\u001B[39;00m \u001B[38;5;28mself\u001B[39m\u001B[38;5;241m.\u001B[39m_forward_hooks \u001B[38;5;129;01mor\u001B[39;00m \u001B[38;5;28mself\u001B[39m\u001B[38;5;241m.\u001B[39m_forward_pre_hooks \u001B[38;5;129;01mor\u001B[39;00m _global_backward_hooks\n\u001B[1;32m   1193\u001B[0m         \u001B[38;5;129;01mor\u001B[39;00m _global_forward_hooks \u001B[38;5;129;01mor\u001B[39;00m _global_forward_pre_hooks):\n\u001B[0;32m-> 1194\u001B[0m     \u001B[38;5;28;01mreturn\u001B[39;00m \u001B[43mforward_call\u001B[49m\u001B[43m(\u001B[49m\u001B[38;5;241;43m*\u001B[39;49m\u001B[38;5;28;43minput\u001B[39;49m\u001B[43m,\u001B[49m\u001B[43m \u001B[49m\u001B[38;5;241;43m*\u001B[39;49m\u001B[38;5;241;43m*\u001B[39;49m\u001B[43mkwargs\u001B[49m\u001B[43m)\u001B[49m\n\u001B[1;32m   1195\u001B[0m \u001B[38;5;66;03m# Do not call functions when jit is used\u001B[39;00m\n\u001B[1;32m   1196\u001B[0m full_backward_hooks, non_full_backward_hooks \u001B[38;5;241m=\u001B[39m [], []\n",
      "File \u001B[0;32m~/anaconda3/envs/capstone/lib/python3.9/site-packages/ultralytics/nn/modules.py:192\u001B[0m, in \u001B[0;36mC2f.forward\u001B[0;34m(self, x)\u001B[0m\n\u001B[1;32m    190\u001B[0m \u001B[38;5;28;01mdef\u001B[39;00m \u001B[38;5;21mforward\u001B[39m(\u001B[38;5;28mself\u001B[39m, x):\n\u001B[1;32m    191\u001B[0m     y \u001B[38;5;241m=\u001B[39m \u001B[38;5;28mlist\u001B[39m(\u001B[38;5;28mself\u001B[39m\u001B[38;5;241m.\u001B[39mcv1(x)\u001B[38;5;241m.\u001B[39mchunk(\u001B[38;5;241m2\u001B[39m, \u001B[38;5;241m1\u001B[39m))\n\u001B[0;32m--> 192\u001B[0m     \u001B[43my\u001B[49m\u001B[38;5;241;43m.\u001B[39;49m\u001B[43mextend\u001B[49m\u001B[43m(\u001B[49m\u001B[43mm\u001B[49m\u001B[43m(\u001B[49m\u001B[43my\u001B[49m\u001B[43m[\u001B[49m\u001B[38;5;241;43m-\u001B[39;49m\u001B[38;5;241;43m1\u001B[39;49m\u001B[43m]\u001B[49m\u001B[43m)\u001B[49m\u001B[43m \u001B[49m\u001B[38;5;28;43;01mfor\u001B[39;49;00m\u001B[43m \u001B[49m\u001B[43mm\u001B[49m\u001B[43m \u001B[49m\u001B[38;5;129;43;01min\u001B[39;49;00m\u001B[43m \u001B[49m\u001B[38;5;28;43mself\u001B[39;49m\u001B[38;5;241;43m.\u001B[39;49m\u001B[43mm\u001B[49m\u001B[43m)\u001B[49m\n\u001B[1;32m    193\u001B[0m     \u001B[38;5;28;01mreturn\u001B[39;00m \u001B[38;5;28mself\u001B[39m\u001B[38;5;241m.\u001B[39mcv2(torch\u001B[38;5;241m.\u001B[39mcat(y, \u001B[38;5;241m1\u001B[39m))\n",
      "File \u001B[0;32m~/anaconda3/envs/capstone/lib/python3.9/site-packages/ultralytics/nn/modules.py:192\u001B[0m, in \u001B[0;36m<genexpr>\u001B[0;34m(.0)\u001B[0m\n\u001B[1;32m    190\u001B[0m \u001B[38;5;28;01mdef\u001B[39;00m \u001B[38;5;21mforward\u001B[39m(\u001B[38;5;28mself\u001B[39m, x):\n\u001B[1;32m    191\u001B[0m     y \u001B[38;5;241m=\u001B[39m \u001B[38;5;28mlist\u001B[39m(\u001B[38;5;28mself\u001B[39m\u001B[38;5;241m.\u001B[39mcv1(x)\u001B[38;5;241m.\u001B[39mchunk(\u001B[38;5;241m2\u001B[39m, \u001B[38;5;241m1\u001B[39m))\n\u001B[0;32m--> 192\u001B[0m     y\u001B[38;5;241m.\u001B[39mextend(\u001B[43mm\u001B[49m\u001B[43m(\u001B[49m\u001B[43my\u001B[49m\u001B[43m[\u001B[49m\u001B[38;5;241;43m-\u001B[39;49m\u001B[38;5;241;43m1\u001B[39;49m\u001B[43m]\u001B[49m\u001B[43m)\u001B[49m \u001B[38;5;28;01mfor\u001B[39;00m m \u001B[38;5;129;01min\u001B[39;00m \u001B[38;5;28mself\u001B[39m\u001B[38;5;241m.\u001B[39mm)\n\u001B[1;32m    193\u001B[0m     \u001B[38;5;28;01mreturn\u001B[39;00m \u001B[38;5;28mself\u001B[39m\u001B[38;5;241m.\u001B[39mcv2(torch\u001B[38;5;241m.\u001B[39mcat(y, \u001B[38;5;241m1\u001B[39m))\n",
      "File \u001B[0;32m~/anaconda3/envs/capstone/lib/python3.9/site-packages/torch/nn/modules/module.py:1194\u001B[0m, in \u001B[0;36mModule._call_impl\u001B[0;34m(self, *input, **kwargs)\u001B[0m\n\u001B[1;32m   1190\u001B[0m \u001B[38;5;66;03m# If we don't have any hooks, we want to skip the rest of the logic in\u001B[39;00m\n\u001B[1;32m   1191\u001B[0m \u001B[38;5;66;03m# this function, and just call forward.\u001B[39;00m\n\u001B[1;32m   1192\u001B[0m \u001B[38;5;28;01mif\u001B[39;00m \u001B[38;5;129;01mnot\u001B[39;00m (\u001B[38;5;28mself\u001B[39m\u001B[38;5;241m.\u001B[39m_backward_hooks \u001B[38;5;129;01mor\u001B[39;00m \u001B[38;5;28mself\u001B[39m\u001B[38;5;241m.\u001B[39m_forward_hooks \u001B[38;5;129;01mor\u001B[39;00m \u001B[38;5;28mself\u001B[39m\u001B[38;5;241m.\u001B[39m_forward_pre_hooks \u001B[38;5;129;01mor\u001B[39;00m _global_backward_hooks\n\u001B[1;32m   1193\u001B[0m         \u001B[38;5;129;01mor\u001B[39;00m _global_forward_hooks \u001B[38;5;129;01mor\u001B[39;00m _global_forward_pre_hooks):\n\u001B[0;32m-> 1194\u001B[0m     \u001B[38;5;28;01mreturn\u001B[39;00m \u001B[43mforward_call\u001B[49m\u001B[43m(\u001B[49m\u001B[38;5;241;43m*\u001B[39;49m\u001B[38;5;28;43minput\u001B[39;49m\u001B[43m,\u001B[49m\u001B[43m \u001B[49m\u001B[38;5;241;43m*\u001B[39;49m\u001B[38;5;241;43m*\u001B[39;49m\u001B[43mkwargs\u001B[49m\u001B[43m)\u001B[49m\n\u001B[1;32m   1195\u001B[0m \u001B[38;5;66;03m# Do not call functions when jit is used\u001B[39;00m\n\u001B[1;32m   1196\u001B[0m full_backward_hooks, non_full_backward_hooks \u001B[38;5;241m=\u001B[39m [], []\n",
      "File \u001B[0;32m~/anaconda3/envs/capstone/lib/python3.9/site-packages/ultralytics/nn/modules.py:130\u001B[0m, in \u001B[0;36mBottleneck.forward\u001B[0;34m(self, x)\u001B[0m\n\u001B[1;32m    129\u001B[0m \u001B[38;5;28;01mdef\u001B[39;00m \u001B[38;5;21mforward\u001B[39m(\u001B[38;5;28mself\u001B[39m, x):\n\u001B[0;32m--> 130\u001B[0m     \u001B[38;5;28;01mreturn\u001B[39;00m x \u001B[38;5;241m+\u001B[39m \u001B[38;5;28mself\u001B[39m\u001B[38;5;241m.\u001B[39mcv2(\u001B[38;5;28mself\u001B[39m\u001B[38;5;241m.\u001B[39mcv1(x)) \u001B[38;5;28;01mif\u001B[39;00m \u001B[38;5;28mself\u001B[39m\u001B[38;5;241m.\u001B[39madd \u001B[38;5;28;01melse\u001B[39;00m \u001B[38;5;28mself\u001B[39m\u001B[38;5;241m.\u001B[39mcv2(\u001B[38;5;28;43mself\u001B[39;49m\u001B[38;5;241;43m.\u001B[39;49m\u001B[43mcv1\u001B[49m\u001B[43m(\u001B[49m\u001B[43mx\u001B[49m\u001B[43m)\u001B[49m)\n",
      "File \u001B[0;32m~/anaconda3/envs/capstone/lib/python3.9/site-packages/torch/nn/modules/module.py:1194\u001B[0m, in \u001B[0;36mModule._call_impl\u001B[0;34m(self, *input, **kwargs)\u001B[0m\n\u001B[1;32m   1190\u001B[0m \u001B[38;5;66;03m# If we don't have any hooks, we want to skip the rest of the logic in\u001B[39;00m\n\u001B[1;32m   1191\u001B[0m \u001B[38;5;66;03m# this function, and just call forward.\u001B[39;00m\n\u001B[1;32m   1192\u001B[0m \u001B[38;5;28;01mif\u001B[39;00m \u001B[38;5;129;01mnot\u001B[39;00m (\u001B[38;5;28mself\u001B[39m\u001B[38;5;241m.\u001B[39m_backward_hooks \u001B[38;5;129;01mor\u001B[39;00m \u001B[38;5;28mself\u001B[39m\u001B[38;5;241m.\u001B[39m_forward_hooks \u001B[38;5;129;01mor\u001B[39;00m \u001B[38;5;28mself\u001B[39m\u001B[38;5;241m.\u001B[39m_forward_pre_hooks \u001B[38;5;129;01mor\u001B[39;00m _global_backward_hooks\n\u001B[1;32m   1193\u001B[0m         \u001B[38;5;129;01mor\u001B[39;00m _global_forward_hooks \u001B[38;5;129;01mor\u001B[39;00m _global_forward_pre_hooks):\n\u001B[0;32m-> 1194\u001B[0m     \u001B[38;5;28;01mreturn\u001B[39;00m \u001B[43mforward_call\u001B[49m\u001B[43m(\u001B[49m\u001B[38;5;241;43m*\u001B[39;49m\u001B[38;5;28;43minput\u001B[39;49m\u001B[43m,\u001B[49m\u001B[43m \u001B[49m\u001B[38;5;241;43m*\u001B[39;49m\u001B[38;5;241;43m*\u001B[39;49m\u001B[43mkwargs\u001B[49m\u001B[43m)\u001B[49m\n\u001B[1;32m   1195\u001B[0m \u001B[38;5;66;03m# Do not call functions when jit is used\u001B[39;00m\n\u001B[1;32m   1196\u001B[0m full_backward_hooks, non_full_backward_hooks \u001B[38;5;241m=\u001B[39m [], []\n",
      "File \u001B[0;32m~/anaconda3/envs/capstone/lib/python3.9/site-packages/ultralytics/nn/modules.py:37\u001B[0m, in \u001B[0;36mConv.forward_fuse\u001B[0;34m(self, x)\u001B[0m\n\u001B[1;32m     36\u001B[0m \u001B[38;5;28;01mdef\u001B[39;00m \u001B[38;5;21mforward_fuse\u001B[39m(\u001B[38;5;28mself\u001B[39m, x):\n\u001B[0;32m---> 37\u001B[0m     \u001B[38;5;28;01mreturn\u001B[39;00m \u001B[38;5;28mself\u001B[39m\u001B[38;5;241m.\u001B[39mact(\u001B[38;5;28;43mself\u001B[39;49m\u001B[38;5;241;43m.\u001B[39;49m\u001B[43mconv\u001B[49m\u001B[43m(\u001B[49m\u001B[43mx\u001B[49m\u001B[43m)\u001B[49m)\n",
      "File \u001B[0;32m~/anaconda3/envs/capstone/lib/python3.9/site-packages/torch/nn/modules/module.py:1194\u001B[0m, in \u001B[0;36mModule._call_impl\u001B[0;34m(self, *input, **kwargs)\u001B[0m\n\u001B[1;32m   1190\u001B[0m \u001B[38;5;66;03m# If we don't have any hooks, we want to skip the rest of the logic in\u001B[39;00m\n\u001B[1;32m   1191\u001B[0m \u001B[38;5;66;03m# this function, and just call forward.\u001B[39;00m\n\u001B[1;32m   1192\u001B[0m \u001B[38;5;28;01mif\u001B[39;00m \u001B[38;5;129;01mnot\u001B[39;00m (\u001B[38;5;28mself\u001B[39m\u001B[38;5;241m.\u001B[39m_backward_hooks \u001B[38;5;129;01mor\u001B[39;00m \u001B[38;5;28mself\u001B[39m\u001B[38;5;241m.\u001B[39m_forward_hooks \u001B[38;5;129;01mor\u001B[39;00m \u001B[38;5;28mself\u001B[39m\u001B[38;5;241m.\u001B[39m_forward_pre_hooks \u001B[38;5;129;01mor\u001B[39;00m _global_backward_hooks\n\u001B[1;32m   1193\u001B[0m         \u001B[38;5;129;01mor\u001B[39;00m _global_forward_hooks \u001B[38;5;129;01mor\u001B[39;00m _global_forward_pre_hooks):\n\u001B[0;32m-> 1194\u001B[0m     \u001B[38;5;28;01mreturn\u001B[39;00m \u001B[43mforward_call\u001B[49m\u001B[43m(\u001B[49m\u001B[38;5;241;43m*\u001B[39;49m\u001B[38;5;28;43minput\u001B[39;49m\u001B[43m,\u001B[49m\u001B[43m \u001B[49m\u001B[38;5;241;43m*\u001B[39;49m\u001B[38;5;241;43m*\u001B[39;49m\u001B[43mkwargs\u001B[49m\u001B[43m)\u001B[49m\n\u001B[1;32m   1195\u001B[0m \u001B[38;5;66;03m# Do not call functions when jit is used\u001B[39;00m\n\u001B[1;32m   1196\u001B[0m full_backward_hooks, non_full_backward_hooks \u001B[38;5;241m=\u001B[39m [], []\n",
      "File \u001B[0;32m~/anaconda3/envs/capstone/lib/python3.9/site-packages/torch/nn/modules/conv.py:463\u001B[0m, in \u001B[0;36mConv2d.forward\u001B[0;34m(self, input)\u001B[0m\n\u001B[1;32m    462\u001B[0m \u001B[38;5;28;01mdef\u001B[39;00m \u001B[38;5;21mforward\u001B[39m(\u001B[38;5;28mself\u001B[39m, \u001B[38;5;28minput\u001B[39m: Tensor) \u001B[38;5;241m-\u001B[39m\u001B[38;5;241m>\u001B[39m Tensor:\n\u001B[0;32m--> 463\u001B[0m     \u001B[38;5;28;01mreturn\u001B[39;00m \u001B[38;5;28;43mself\u001B[39;49m\u001B[38;5;241;43m.\u001B[39;49m\u001B[43m_conv_forward\u001B[49m\u001B[43m(\u001B[49m\u001B[38;5;28;43minput\u001B[39;49m\u001B[43m,\u001B[49m\u001B[43m \u001B[49m\u001B[38;5;28;43mself\u001B[39;49m\u001B[38;5;241;43m.\u001B[39;49m\u001B[43mweight\u001B[49m\u001B[43m,\u001B[49m\u001B[43m \u001B[49m\u001B[38;5;28;43mself\u001B[39;49m\u001B[38;5;241;43m.\u001B[39;49m\u001B[43mbias\u001B[49m\u001B[43m)\u001B[49m\n",
      "File \u001B[0;32m~/anaconda3/envs/capstone/lib/python3.9/site-packages/torch/nn/modules/conv.py:459\u001B[0m, in \u001B[0;36mConv2d._conv_forward\u001B[0;34m(self, input, weight, bias)\u001B[0m\n\u001B[1;32m    455\u001B[0m \u001B[38;5;28;01mif\u001B[39;00m \u001B[38;5;28mself\u001B[39m\u001B[38;5;241m.\u001B[39mpadding_mode \u001B[38;5;241m!=\u001B[39m \u001B[38;5;124m'\u001B[39m\u001B[38;5;124mzeros\u001B[39m\u001B[38;5;124m'\u001B[39m:\n\u001B[1;32m    456\u001B[0m     \u001B[38;5;28;01mreturn\u001B[39;00m F\u001B[38;5;241m.\u001B[39mconv2d(F\u001B[38;5;241m.\u001B[39mpad(\u001B[38;5;28minput\u001B[39m, \u001B[38;5;28mself\u001B[39m\u001B[38;5;241m.\u001B[39m_reversed_padding_repeated_twice, mode\u001B[38;5;241m=\u001B[39m\u001B[38;5;28mself\u001B[39m\u001B[38;5;241m.\u001B[39mpadding_mode),\n\u001B[1;32m    457\u001B[0m                     weight, bias, \u001B[38;5;28mself\u001B[39m\u001B[38;5;241m.\u001B[39mstride,\n\u001B[1;32m    458\u001B[0m                     _pair(\u001B[38;5;241m0\u001B[39m), \u001B[38;5;28mself\u001B[39m\u001B[38;5;241m.\u001B[39mdilation, \u001B[38;5;28mself\u001B[39m\u001B[38;5;241m.\u001B[39mgroups)\n\u001B[0;32m--> 459\u001B[0m \u001B[38;5;28;01mreturn\u001B[39;00m \u001B[43mF\u001B[49m\u001B[38;5;241;43m.\u001B[39;49m\u001B[43mconv2d\u001B[49m\u001B[43m(\u001B[49m\u001B[38;5;28;43minput\u001B[39;49m\u001B[43m,\u001B[49m\u001B[43m \u001B[49m\u001B[43mweight\u001B[49m\u001B[43m,\u001B[49m\u001B[43m \u001B[49m\u001B[43mbias\u001B[49m\u001B[43m,\u001B[49m\u001B[43m \u001B[49m\u001B[38;5;28;43mself\u001B[39;49m\u001B[38;5;241;43m.\u001B[39;49m\u001B[43mstride\u001B[49m\u001B[43m,\u001B[49m\n\u001B[1;32m    460\u001B[0m \u001B[43m                \u001B[49m\u001B[38;5;28;43mself\u001B[39;49m\u001B[38;5;241;43m.\u001B[39;49m\u001B[43mpadding\u001B[49m\u001B[43m,\u001B[49m\u001B[43m \u001B[49m\u001B[38;5;28;43mself\u001B[39;49m\u001B[38;5;241;43m.\u001B[39;49m\u001B[43mdilation\u001B[49m\u001B[43m,\u001B[49m\u001B[43m \u001B[49m\u001B[38;5;28;43mself\u001B[39;49m\u001B[38;5;241;43m.\u001B[39;49m\u001B[43mgroups\u001B[49m\u001B[43m)\u001B[49m\n",
      "\u001B[0;31mKeyboardInterrupt\u001B[0m: "
     ]
    }
   ],
   "source": [
    "results = []\n",
    "for i in np.arange(0.01,1,0.01):\n",
    "    max_conf = 0\n",
    "    max_accuracy = 0\n",
    "    correct,incorrect,  true_list , incorrect_list  = eval_data('data/val',model,i)\n",
    "    acc = correct/(correct+incorrect)\n",
    "    print(f'conf={i}, acc={acc}')\n",
    "    results.append((i,acc))\n"
   ],
   "metadata": {
    "collapsed": false,
    "pycharm": {
     "name": "#%%\n"
    }
   }
  },
  {
   "cell_type": "code",
   "execution_count": null,
   "outputs": [],
   "source": [
    "results"
   ],
   "metadata": {
    "collapsed": false,
    "pycharm": {
     "name": "#%%\n"
    }
   }
  },
  {
   "cell_type": "code",
   "execution_count": null,
   "outputs": [],
   "source": [
    "#CONF = .11, val = =0.3448275862068966\n",
    "\n",
    "#pretrained  (0.26, 0.18620689655172415),"
   ],
   "metadata": {
    "collapsed": false,
    "pycharm": {
     "name": "#%%\n"
    }
   }
  },
  {
   "cell_type": "code",
   "execution_count": 9,
   "outputs": [
    {
     "name": "stderr",
     "output_type": "stream",
     "text": [
      "Ultralytics YOLOv8.0.49 🚀 Python-3.9.15 torch-1.13.1 CUDA:0 (NVIDIA GeForce RTX 4090, 24214MiB)\n",
      "Model summary (fused): 168 layers, 3005843 parameters, 0 gradients, 8.1 GFLOPs\n"
     ]
    },
    {
     "data": {
      "text/plain": "0.2896551724137931"
     },
     "execution_count": 9,
     "metadata": {},
     "output_type": "execute_result"
    }
   ],
   "source": [
    "model = YOLO('./runs/detect/train/weights/best.pt')\n",
    "\n",
    "correct,incorrect,  true_list , incorrect_list  = eval_data('data/test',model,.11)\n",
    "acc = correct/(correct+incorrect)\n",
    "acc"
   ],
   "metadata": {
    "collapsed": false,
    "pycharm": {
     "name": "#%%\n"
    }
   }
  },
  {
   "cell_type": "code",
   "execution_count": null,
   "outputs": [],
   "source": [],
   "metadata": {
    "collapsed": false,
    "pycharm": {
     "name": "#%%\n"
    }
   }
  }
 ],
 "metadata": {
  "kernelspec": {
   "display_name": "Python 3",
   "language": "python",
   "name": "python3"
  },
  "language_info": {
   "codemirror_mode": {
    "name": "ipython",
    "version": 2
   },
   "file_extension": ".py",
   "mimetype": "text/x-python",
   "name": "python",
   "nbconvert_exporter": "python",
   "pygments_lexer": "ipython2",
   "version": "2.7.6"
  }
 },
 "nbformat": 4,
 "nbformat_minor": 0
}