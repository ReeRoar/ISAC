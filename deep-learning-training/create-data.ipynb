{
 "cells": [
  {
   "cell_type": "code",
   "execution_count": 20,
   "metadata": {
    "collapsed": true
   },
   "outputs": [
    {
     "name": "stdout",
     "output_type": "stream",
     "text": [
      "hi\n",
      "Downloading split 'train' to '/home/zach/fiftyone/coco-2017/train' if necessary\n",
      "Found annotations at '/home/zach/fiftyone/coco-2017/raw/instances_train2017.json'\n",
      "Sufficient images already downloaded\n",
      "Existing download of split 'train' is sufficient\n",
      "Loading existing dataset 'coco-2017-train'. To reload from disk, either delete the existing dataset or provide a custom `dataset_name` to use\n"
     ]
    },
    {
     "data": {
      "text/plain": "Name:        coco-2017-train\nMedia type:  image\nNum samples: 64115\nPersistent:  False\nTags:        []\nSample fields:\n    id:           fiftyone.core.fields.ObjectIdField\n    filepath:     fiftyone.core.fields.StringField\n    tags:         fiftyone.core.fields.ListField(fiftyone.core.fields.StringField)\n    metadata:     fiftyone.core.fields.EmbeddedDocumentField(fiftyone.core.metadata.ImageMetadata)\n    ground_truth: fiftyone.core.fields.EmbeddedDocumentField(fiftyone.core.labels.Detections)"
     },
     "execution_count": 20,
     "metadata": {},
     "output_type": "execute_result"
    }
   ],
   "source": [
    "import fiftyone as fo\n",
    "from utils import dataloader\n",
    "\n",
    "\n",
    "data_train = dataloader.load_coco_dataset('train')\n",
    "data_train"
   ]
  },
  {
   "cell_type": "code",
   "execution_count": 19,
   "outputs": [],
   "source": [
    "%load_ext autoreload\n",
    "%autoreload 2"
   ],
   "metadata": {
    "collapsed": false,
    "pycharm": {
     "name": "#%%\n"
    }
   }
  },
  {
   "cell_type": "code",
   "execution_count": 2,
   "outputs": [
    {
     "data": {
      "text/plain": "<IPython.lib.display.IFrame at 0x7f9478facaf0>",
      "text/html": "\n        <iframe\n            width=\"100%\"\n            height=\"800\"\n            src=\"http://localhost:5151/?context=ipython&subscription=6e22f2f7-aac3-4975-9de1-a4a8eaa88c8c\"\n            frameborder=\"0\"\n            allowfullscreen\n            \n        ></iframe>\n        "
     },
     "metadata": {},
     "output_type": "display_data"
    }
   ],
   "source": [
    "session = fo.launch_app(data_train)"
   ],
   "metadata": {
    "collapsed": false,
    "pycharm": {
     "name": "#%%\n"
    }
   }
  },
  {
   "cell_type": "code",
   "execution_count": 3,
   "outputs": [
    {
     "data": {
      "text/plain": "Dataset:          coco-2017-train\nMedia type:       image\nNum samples:      64115\nSelected samples: 0\nSelected labels:  0\nSession URL:      http://localhost:5151/"
     },
     "execution_count": 3,
     "metadata": {},
     "output_type": "execute_result"
    }
   ],
   "source": [
    "session"
   ],
   "metadata": {
    "collapsed": false,
    "pycharm": {
     "name": "#%%\n"
    }
   }
  },
  {
   "cell_type": "code",
   "execution_count": 4,
   "outputs": [
    {
     "name": "stdout",
     "output_type": "stream",
     "text": [
      "Downloading split 'validation' to '/home/zach/fiftyone/coco-2017/validation' if necessary\n",
      "Found annotations at '/home/zach/fiftyone/coco-2017/raw/instances_val2017.json'\n",
      "Sufficient images already downloaded\n",
      "Existing download of split 'validation' is sufficient\n",
      "Loading existing dataset 'coco-2017-validation'. To reload from disk, either delete the existing dataset or provide a custom `dataset_name` to use\n"
     ]
    }
   ],
   "source": [
    "data_val = dataloader.load_coco_dataset('validation')"
   ],
   "metadata": {
    "collapsed": false,
    "pycharm": {
     "name": "#%%\n"
    }
   }
  },
  {
   "cell_type": "code",
   "execution_count": 5,
   "outputs": [
    {
     "data": {
      "text/plain": "<IPython.lib.display.IFrame at 0x7f948755dc40>",
      "text/html": "\n        <iframe\n            width=\"100%\"\n            height=\"800\"\n            src=\"http://localhost:5151/?context=ipython&subscription=f46bff96-b973-4cbf-bc22-8eb6981edc19\"\n            frameborder=\"0\"\n            allowfullscreen\n            \n        ></iframe>\n        "
     },
     "metadata": {},
     "output_type": "display_data"
    }
   ],
   "source": [
    "session = fo.launch_app(data_val)"
   ],
   "metadata": {
    "collapsed": false,
    "pycharm": {
     "name": "#%%\n"
    }
   }
  },
  {
   "cell_type": "code",
   "execution_count": 5,
   "outputs": [],
   "source": [],
   "metadata": {
    "collapsed": false,
    "pycharm": {
     "name": "#%%\n"
    }
   }
  },
  {
   "cell_type": "code",
   "execution_count": 6,
   "outputs": [],
   "source": [
    "session.close()"
   ],
   "metadata": {
    "collapsed": false,
    "pycharm": {
     "name": "#%%\n"
    }
   }
  },
  {
   "cell_type": "code",
   "execution_count": 7,
   "outputs": [
    {
     "data": {
      "text/plain": "Dataset:          coco-2017-validation\nMedia type:       image\nNum samples:      2693\nSelected samples: 0\nSelected labels:  0\nSession URL:      http://localhost:5151/"
     },
     "execution_count": 7,
     "metadata": {},
     "output_type": "execute_result"
    }
   ],
   "source": [
    "session"
   ],
   "metadata": {
    "collapsed": false,
    "pycharm": {
     "name": "#%%\n"
    }
   }
  },
  {
   "cell_type": "code",
   "execution_count": 8,
   "outputs": [
    {
     "data": {
      "text/plain": "Name:        coco-2017-train\nMedia type:  image\nNum samples: 64115\nPersistent:  False\nTags:        []\nSample fields:\n    id:           fiftyone.core.fields.ObjectIdField\n    filepath:     fiftyone.core.fields.StringField\n    tags:         fiftyone.core.fields.ListField(fiftyone.core.fields.StringField)\n    metadata:     fiftyone.core.fields.EmbeddedDocumentField(fiftyone.core.metadata.ImageMetadata)\n    ground_truth: fiftyone.core.fields.EmbeddedDocumentField(fiftyone.core.labels.Detections)"
     },
     "execution_count": 8,
     "metadata": {},
     "output_type": "execute_result"
    }
   ],
   "source": [
    "data_train"
   ],
   "metadata": {
    "collapsed": false,
    "pycharm": {
     "name": "#%%\n"
    }
   }
  },
  {
   "cell_type": "code",
   "execution_count": 9,
   "outputs": [],
   "source": [
    "x = data_train.take(10,seed=50)"
   ],
   "metadata": {
    "collapsed": false,
    "pycharm": {
     "name": "#%%\n"
    }
   }
  },
  {
   "cell_type": "code",
   "execution_count": 10,
   "outputs": [
    {
     "data": {
      "text/plain": "Dataset:     coco-2017-train\nMedia type:  image\nNum samples: 10\nSample fields:\n    id:           fiftyone.core.fields.ObjectIdField\n    filepath:     fiftyone.core.fields.StringField\n    tags:         fiftyone.core.fields.ListField(fiftyone.core.fields.StringField)\n    metadata:     fiftyone.core.fields.EmbeddedDocumentField(fiftyone.core.metadata.ImageMetadata)\n    ground_truth: fiftyone.core.fields.EmbeddedDocumentField(fiftyone.core.labels.Detections)\nView stages:\n    1. Take(size=10, seed=50)"
     },
     "execution_count": 10,
     "metadata": {},
     "output_type": "execute_result"
    }
   ],
   "source": [
    "x"
   ],
   "metadata": {
    "collapsed": false,
    "pycharm": {
     "name": "#%%\n"
    }
   }
  },
  {
   "cell_type": "code",
   "execution_count": 11,
   "outputs": [],
   "source": [
    "y = x.values('filepath')"
   ],
   "metadata": {
    "collapsed": false,
    "pycharm": {
     "name": "#%%\n"
    }
   }
  },
  {
   "cell_type": "code",
   "execution_count": 12,
   "outputs": [
    {
     "data": {
      "text/plain": "['/home/zach/fiftyone/coco-2017/train/data/000000530631.jpg',\n '/home/zach/fiftyone/coco-2017/train/data/000000418315.jpg',\n '/home/zach/fiftyone/coco-2017/train/data/000000088458.jpg',\n '/home/zach/fiftyone/coco-2017/train/data/000000554621.jpg',\n '/home/zach/fiftyone/coco-2017/train/data/000000350171.jpg',\n '/home/zach/fiftyone/coco-2017/train/data/000000242246.jpg',\n '/home/zach/fiftyone/coco-2017/train/data/000000443094.jpg',\n '/home/zach/fiftyone/coco-2017/train/data/000000518761.jpg',\n '/home/zach/fiftyone/coco-2017/train/data/000000028116.jpg',\n '/home/zach/fiftyone/coco-2017/train/data/000000285967.jpg']"
     },
     "execution_count": 12,
     "metadata": {},
     "output_type": "execute_result"
    }
   ],
   "source": [
    "y"
   ],
   "metadata": {
    "collapsed": false,
    "pycharm": {
     "name": "#%%\n"
    }
   }
  },
  {
   "cell_type": "code",
   "execution_count": 16,
   "outputs": [
    {
     "ename": "InvalidId",
     "evalue": "'/home/zach/fiftyone/coco-2017/train/data/000000530631.jpg' is not a valid ObjectId, it must be a 12-byte input or a 24-character hex string",
     "output_type": "error",
     "traceback": [
      "\u001B[0;31m---------------------------------------------------------------------------\u001B[0m",
      "\u001B[0;31mInvalidId\u001B[0m                                 Traceback (most recent call last)",
      "File \u001B[0;32m~/anaconda3/envs/capstone/lib/python3.9/site-packages/IPython/core/formatters.py:706\u001B[0m, in \u001B[0;36mPlainTextFormatter.__call__\u001B[0;34m(self, obj)\u001B[0m\n\u001B[1;32m    699\u001B[0m stream \u001B[38;5;241m=\u001B[39m StringIO()\n\u001B[1;32m    700\u001B[0m printer \u001B[38;5;241m=\u001B[39m pretty\u001B[38;5;241m.\u001B[39mRepresentationPrinter(stream, \u001B[38;5;28mself\u001B[39m\u001B[38;5;241m.\u001B[39mverbose,\n\u001B[1;32m    701\u001B[0m     \u001B[38;5;28mself\u001B[39m\u001B[38;5;241m.\u001B[39mmax_width, \u001B[38;5;28mself\u001B[39m\u001B[38;5;241m.\u001B[39mnewline,\n\u001B[1;32m    702\u001B[0m     max_seq_length\u001B[38;5;241m=\u001B[39m\u001B[38;5;28mself\u001B[39m\u001B[38;5;241m.\u001B[39mmax_seq_length,\n\u001B[1;32m    703\u001B[0m     singleton_pprinters\u001B[38;5;241m=\u001B[39m\u001B[38;5;28mself\u001B[39m\u001B[38;5;241m.\u001B[39msingleton_printers,\n\u001B[1;32m    704\u001B[0m     type_pprinters\u001B[38;5;241m=\u001B[39m\u001B[38;5;28mself\u001B[39m\u001B[38;5;241m.\u001B[39mtype_printers,\n\u001B[1;32m    705\u001B[0m     deferred_pprinters\u001B[38;5;241m=\u001B[39m\u001B[38;5;28mself\u001B[39m\u001B[38;5;241m.\u001B[39mdeferred_printers)\n\u001B[0;32m--> 706\u001B[0m \u001B[43mprinter\u001B[49m\u001B[38;5;241;43m.\u001B[39;49m\u001B[43mpretty\u001B[49m\u001B[43m(\u001B[49m\u001B[43mobj\u001B[49m\u001B[43m)\u001B[49m\n\u001B[1;32m    707\u001B[0m printer\u001B[38;5;241m.\u001B[39mflush()\n\u001B[1;32m    708\u001B[0m \u001B[38;5;28;01mreturn\u001B[39;00m stream\u001B[38;5;241m.\u001B[39mgetvalue()\n",
      "File \u001B[0;32m~/anaconda3/envs/capstone/lib/python3.9/site-packages/IPython/lib/pretty.py:410\u001B[0m, in \u001B[0;36mRepresentationPrinter.pretty\u001B[0;34m(self, obj)\u001B[0m\n\u001B[1;32m    407\u001B[0m                         \u001B[38;5;28;01mreturn\u001B[39;00m meth(obj, \u001B[38;5;28mself\u001B[39m, cycle)\n\u001B[1;32m    408\u001B[0m                 \u001B[38;5;28;01mif\u001B[39;00m \u001B[38;5;28mcls\u001B[39m \u001B[38;5;129;01mis\u001B[39;00m \u001B[38;5;129;01mnot\u001B[39;00m \u001B[38;5;28mobject\u001B[39m \\\n\u001B[1;32m    409\u001B[0m                         \u001B[38;5;129;01mand\u001B[39;00m callable(\u001B[38;5;28mcls\u001B[39m\u001B[38;5;241m.\u001B[39m\u001B[38;5;18m__dict__\u001B[39m\u001B[38;5;241m.\u001B[39mget(\u001B[38;5;124m'\u001B[39m\u001B[38;5;124m__repr__\u001B[39m\u001B[38;5;124m'\u001B[39m)):\n\u001B[0;32m--> 410\u001B[0m                     \u001B[38;5;28;01mreturn\u001B[39;00m \u001B[43m_repr_pprint\u001B[49m\u001B[43m(\u001B[49m\u001B[43mobj\u001B[49m\u001B[43m,\u001B[49m\u001B[43m \u001B[49m\u001B[38;5;28;43mself\u001B[39;49m\u001B[43m,\u001B[49m\u001B[43m \u001B[49m\u001B[43mcycle\u001B[49m\u001B[43m)\u001B[49m\n\u001B[1;32m    412\u001B[0m     \u001B[38;5;28;01mreturn\u001B[39;00m _default_pprint(obj, \u001B[38;5;28mself\u001B[39m, cycle)\n\u001B[1;32m    413\u001B[0m \u001B[38;5;28;01mfinally\u001B[39;00m:\n",
      "File \u001B[0;32m~/anaconda3/envs/capstone/lib/python3.9/site-packages/IPython/lib/pretty.py:778\u001B[0m, in \u001B[0;36m_repr_pprint\u001B[0;34m(obj, p, cycle)\u001B[0m\n\u001B[1;32m    776\u001B[0m \u001B[38;5;124;03m\"\"\"A pprint that just redirects to the normal repr function.\"\"\"\u001B[39;00m\n\u001B[1;32m    777\u001B[0m \u001B[38;5;66;03m# Find newlines and replace them with p.break_()\u001B[39;00m\n\u001B[0;32m--> 778\u001B[0m output \u001B[38;5;241m=\u001B[39m \u001B[38;5;28;43mrepr\u001B[39;49m\u001B[43m(\u001B[49m\u001B[43mobj\u001B[49m\u001B[43m)\u001B[49m\n\u001B[1;32m    779\u001B[0m lines \u001B[38;5;241m=\u001B[39m output\u001B[38;5;241m.\u001B[39msplitlines()\n\u001B[1;32m    780\u001B[0m \u001B[38;5;28;01mwith\u001B[39;00m p\u001B[38;5;241m.\u001B[39mgroup():\n",
      "File \u001B[0;32m~/anaconda3/envs/capstone/lib/python3.9/site-packages/fiftyone/core/collections.py:179\u001B[0m, in \u001B[0;36mSampleCollection.__repr__\u001B[0;34m(self)\u001B[0m\n\u001B[1;32m    178\u001B[0m \u001B[38;5;28;01mdef\u001B[39;00m \u001B[38;5;21m__repr__\u001B[39m(\u001B[38;5;28mself\u001B[39m):\n\u001B[0;32m--> 179\u001B[0m     \u001B[38;5;28;01mreturn\u001B[39;00m \u001B[38;5;28;43mself\u001B[39;49m\u001B[38;5;241;43m.\u001B[39;49m\u001B[43msummary\u001B[49m\u001B[43m(\u001B[49m\u001B[43m)\u001B[49m\n",
      "File \u001B[0;32m~/anaconda3/envs/capstone/lib/python3.9/site-packages/fiftyone/core/view.py:323\u001B[0m, in \u001B[0;36mDatasetView.summary\u001B[0;34m(self)\u001B[0m\n\u001B[1;32m    314\u001B[0m \u001B[38;5;28;01mdef\u001B[39;00m \u001B[38;5;21msummary\u001B[39m(\u001B[38;5;28mself\u001B[39m):\n\u001B[1;32m    315\u001B[0m     \u001B[38;5;124;03m\"\"\"Returns a string summary of the view.\u001B[39;00m\n\u001B[1;32m    316\u001B[0m \n\u001B[1;32m    317\u001B[0m \u001B[38;5;124;03m    Returns:\u001B[39;00m\n\u001B[1;32m    318\u001B[0m \u001B[38;5;124;03m        a string summary\u001B[39;00m\n\u001B[1;32m    319\u001B[0m \u001B[38;5;124;03m    \"\"\"\u001B[39;00m\n\u001B[1;32m    320\u001B[0m     elements \u001B[38;5;241m=\u001B[39m [\n\u001B[1;32m    321\u001B[0m         (\u001B[38;5;124m\"\u001B[39m\u001B[38;5;124mDataset:\u001B[39m\u001B[38;5;124m\"\u001B[39m, \u001B[38;5;28mself\u001B[39m\u001B[38;5;241m.\u001B[39mdataset_name),\n\u001B[1;32m    322\u001B[0m         (\u001B[38;5;124m\"\u001B[39m\u001B[38;5;124mMedia type:\u001B[39m\u001B[38;5;124m\"\u001B[39m, \u001B[38;5;28mself\u001B[39m\u001B[38;5;241m.\u001B[39mmedia_type),\n\u001B[0;32m--> 323\u001B[0m         (\u001B[38;5;124m\"\u001B[39m\u001B[38;5;124mNum \u001B[39m\u001B[38;5;132;01m%s\u001B[39;00m\u001B[38;5;124m:\u001B[39m\u001B[38;5;124m\"\u001B[39m \u001B[38;5;241m%\u001B[39m \u001B[38;5;28mself\u001B[39m\u001B[38;5;241m.\u001B[39m_elements_str, \u001B[38;5;28;43mself\u001B[39;49m\u001B[38;5;241;43m.\u001B[39;49m\u001B[43mcount\u001B[49m\u001B[43m(\u001B[49m\u001B[43m)\u001B[49m),\n\u001B[1;32m    324\u001B[0m     ]\n\u001B[1;32m    326\u001B[0m     \u001B[38;5;28;01mif\u001B[39;00m \u001B[38;5;28mself\u001B[39m\u001B[38;5;241m.\u001B[39mmedia_type \u001B[38;5;241m==\u001B[39m fom\u001B[38;5;241m.\u001B[39mGROUP:\n\u001B[1;32m    327\u001B[0m         elements\u001B[38;5;241m.\u001B[39minsert(\u001B[38;5;241m2\u001B[39m, (\u001B[38;5;124m\"\u001B[39m\u001B[38;5;124mGroup slice:\u001B[39m\u001B[38;5;124m\"\u001B[39m, \u001B[38;5;28mself\u001B[39m\u001B[38;5;241m.\u001B[39mgroup_slice))\n",
      "File \u001B[0;32m~/anaconda3/envs/capstone/lib/python3.9/site-packages/fiftyone/core/collections.py:6177\u001B[0m, in \u001B[0;36mSampleCollection.count\u001B[0;34m(self, field_or_expr, expr, safe)\u001B[0m\n\u001B[1;32m   6082\u001B[0m \u001B[38;5;124;03m\"\"\"Counts the number of field values in the collection.\u001B[39;00m\n\u001B[1;32m   6083\u001B[0m \n\u001B[1;32m   6084\u001B[0m \u001B[38;5;124;03m``None``-valued fields are ignored.\u001B[39;00m\n\u001B[0;32m   (...)\u001B[0m\n\u001B[1;32m   6172\u001B[0m \u001B[38;5;124;03m    the count\u001B[39;00m\n\u001B[1;32m   6173\u001B[0m \u001B[38;5;124;03m\"\"\"\u001B[39;00m\n\u001B[1;32m   6174\u001B[0m make \u001B[38;5;241m=\u001B[39m \u001B[38;5;28;01mlambda\u001B[39;00m field_or_expr: foa\u001B[38;5;241m.\u001B[39mCount(\n\u001B[1;32m   6175\u001B[0m     field_or_expr, expr\u001B[38;5;241m=\u001B[39mexpr, safe\u001B[38;5;241m=\u001B[39msafe\n\u001B[1;32m   6176\u001B[0m )\n\u001B[0;32m-> 6177\u001B[0m \u001B[38;5;28;01mreturn\u001B[39;00m \u001B[38;5;28;43mself\u001B[39;49m\u001B[38;5;241;43m.\u001B[39;49m\u001B[43m_make_and_aggregate\u001B[49m\u001B[43m(\u001B[49m\u001B[43mmake\u001B[49m\u001B[43m,\u001B[49m\u001B[43m \u001B[49m\u001B[43mfield_or_expr\u001B[49m\u001B[43m)\u001B[49m\n",
      "File \u001B[0;32m~/anaconda3/envs/capstone/lib/python3.9/site-packages/fiftyone/core/collections.py:8416\u001B[0m, in \u001B[0;36mSampleCollection._make_and_aggregate\u001B[0;34m(self, make, args)\u001B[0m\n\u001B[1;32m   8413\u001B[0m \u001B[38;5;28;01mif\u001B[39;00m \u001B[38;5;28misinstance\u001B[39m(args, (\u001B[38;5;28mlist\u001B[39m, \u001B[38;5;28mtuple\u001B[39m)):\n\u001B[1;32m   8414\u001B[0m     \u001B[38;5;28;01mreturn\u001B[39;00m \u001B[38;5;28mtuple\u001B[39m(\u001B[38;5;28mself\u001B[39m\u001B[38;5;241m.\u001B[39maggregate([make(arg) \u001B[38;5;28;01mfor\u001B[39;00m arg \u001B[38;5;129;01min\u001B[39;00m args]))\n\u001B[0;32m-> 8416\u001B[0m \u001B[38;5;28;01mreturn\u001B[39;00m \u001B[38;5;28;43mself\u001B[39;49m\u001B[38;5;241;43m.\u001B[39;49m\u001B[43maggregate\u001B[49m\u001B[43m(\u001B[49m\u001B[43mmake\u001B[49m\u001B[43m(\u001B[49m\u001B[43margs\u001B[49m\u001B[43m)\u001B[49m\u001B[43m)\u001B[49m\n",
      "File \u001B[0;32m~/anaconda3/envs/capstone/lib/python3.9/site-packages/fiftyone/core/collections.py:8110\u001B[0m, in \u001B[0;36mSampleCollection.aggregate\u001B[0;34m(self, aggregations)\u001B[0m\n\u001B[1;32m   8107\u001B[0m     pipelines\u001B[38;5;241m.\u001B[39mappend(pipeline)\n\u001B[1;32m   8109\u001B[0m \u001B[38;5;66;03m# Build facet-able pipelines\u001B[39;00m\n\u001B[0;32m-> 8110\u001B[0m compiled_facet_aggs, facet_pipelines \u001B[38;5;241m=\u001B[39m \u001B[38;5;28;43mself\u001B[39;49m\u001B[38;5;241;43m.\u001B[39;49m\u001B[43m_build_facets\u001B[49m\u001B[43m(\u001B[49m\u001B[43mfacet_aggs\u001B[49m\u001B[43m)\u001B[49m\n\u001B[1;32m   8111\u001B[0m \u001B[38;5;28;01mfor\u001B[39;00m idx, pipeline \u001B[38;5;129;01min\u001B[39;00m facet_pipelines\u001B[38;5;241m.\u001B[39mitems():\n\u001B[1;32m   8112\u001B[0m     idx_map[idx] \u001B[38;5;241m=\u001B[39m \u001B[38;5;28mlen\u001B[39m(pipelines)\n",
      "File \u001B[0;32m~/anaconda3/envs/capstone/lib/python3.9/site-packages/fiftyone/core/collections.py:8283\u001B[0m, in \u001B[0;36mSampleCollection._build_facets\u001B[0;34m(self, aggs_map)\u001B[0m\n\u001B[1;32m   8278\u001B[0m     compiled[field_name] \u001B[38;5;241m=\u001B[39m foa\u001B[38;5;241m.\u001B[39mFacetAggregations(\n\u001B[1;32m   8279\u001B[0m         field_name, aggregations, _compiled\u001B[38;5;241m=\u001B[39m\u001B[38;5;28;01mTrue\u001B[39;00m\n\u001B[1;32m   8280\u001B[0m     )\n\u001B[1;32m   8282\u001B[0m \u001B[38;5;28;01mfor\u001B[39;00m idx, aggregation \u001B[38;5;129;01min\u001B[39;00m compiled\u001B[38;5;241m.\u001B[39mitems():\n\u001B[0;32m-> 8283\u001B[0m     pipelines[idx] \u001B[38;5;241m=\u001B[39m \u001B[38;5;28;43mself\u001B[39;49m\u001B[38;5;241;43m.\u001B[39;49m\u001B[43m_pipeline\u001B[49m\u001B[43m(\u001B[49m\n\u001B[1;32m   8284\u001B[0m \u001B[43m        \u001B[49m\u001B[43mpipeline\u001B[49m\u001B[38;5;241;43m=\u001B[39;49m\u001B[43maggregation\u001B[49m\u001B[38;5;241;43m.\u001B[39;49m\u001B[43mto_mongo\u001B[49m\u001B[43m(\u001B[49m\u001B[38;5;28;43mself\u001B[39;49m\u001B[43m)\u001B[49m\u001B[43m,\u001B[49m\n\u001B[1;32m   8285\u001B[0m \u001B[43m        \u001B[49m\u001B[43mattach_frames\u001B[49m\u001B[38;5;241;43m=\u001B[39;49m\u001B[43maggregation\u001B[49m\u001B[38;5;241;43m.\u001B[39;49m\u001B[43m_needs_frames\u001B[49m\u001B[43m(\u001B[49m\u001B[38;5;28;43mself\u001B[39;49m\u001B[43m)\u001B[49m\u001B[43m,\u001B[49m\n\u001B[1;32m   8286\u001B[0m \u001B[43m        \u001B[49m\u001B[43mgroup_slices\u001B[49m\u001B[38;5;241;43m=\u001B[39;49m\u001B[43maggregation\u001B[49m\u001B[38;5;241;43m.\u001B[39;49m\u001B[43m_needs_group_slices\u001B[49m\u001B[43m(\u001B[49m\u001B[38;5;28;43mself\u001B[39;49m\u001B[43m)\u001B[49m\u001B[43m,\u001B[49m\n\u001B[1;32m   8287\u001B[0m \u001B[43m    \u001B[49m\u001B[43m)\u001B[49m\n\u001B[1;32m   8289\u001B[0m \u001B[38;5;28;01mreturn\u001B[39;00m compiled, pipelines\n",
      "File \u001B[0;32m~/anaconda3/envs/capstone/lib/python3.9/site-packages/fiftyone/core/view.py:1187\u001B[0m, in \u001B[0;36mDatasetView._pipeline\u001B[0;34m(self, pipeline, media_type, attach_frames, detach_frames, frames_only, support, group_slice, group_slices, groups_only, detach_groups, manual_group_select, post_pipeline)\u001B[0m\n\u001B[1;32m   1184\u001B[0m             _group_slices\u001B[38;5;241m.\u001B[39mupdate(_stage_group_slices)\n\u001B[1;32m   1186\u001B[0m     \u001B[38;5;66;03m# Generate stage's pipeline\u001B[39;00m\n\u001B[0;32m-> 1187\u001B[0m     _pipelines\u001B[38;5;241m.\u001B[39mappend(\u001B[43mstage\u001B[49m\u001B[38;5;241;43m.\u001B[39;49m\u001B[43mto_mongo\u001B[49m\u001B[43m(\u001B[49m\u001B[43m_view\u001B[49m\u001B[43m)\u001B[49m)\n\u001B[1;32m   1188\u001B[0m     _view \u001B[38;5;241m=\u001B[39m _view\u001B[38;5;241m.\u001B[39madd_stage(stage)\n\u001B[1;32m   1190\u001B[0m \u001B[38;5;28;01mif\u001B[39;00m _attach_frames_idx \u001B[38;5;129;01mis\u001B[39;00m \u001B[38;5;28;01mNone\u001B[39;00m \u001B[38;5;129;01mand\u001B[39;00m (attach_frames \u001B[38;5;129;01mor\u001B[39;00m frames_only):\n",
      "File \u001B[0;32m~/anaconda3/envs/capstone/lib/python3.9/site-packages/fiftyone/core/stages.py:4896\u001B[0m, in \u001B[0;36mSelect.to_mongo\u001B[0;34m(self, _)\u001B[0m\n\u001B[1;32m   4891\u001B[0m \u001B[38;5;28;01mif\u001B[39;00m \u001B[38;5;28mself\u001B[39m\u001B[38;5;241m.\u001B[39m_bools:\n\u001B[1;32m   4892\u001B[0m     \u001B[38;5;28;01mraise\u001B[39;00m \u001B[38;5;167;01mValueError\u001B[39;00m(\n\u001B[1;32m   4893\u001B[0m         \u001B[38;5;124m\"\u001B[39m\u001B[38;5;124m`validate()` must be called before using this stage\u001B[39m\u001B[38;5;124m\"\u001B[39m\n\u001B[1;32m   4894\u001B[0m     )\n\u001B[0;32m-> 4896\u001B[0m ids \u001B[38;5;241m=\u001B[39m [ObjectId(_id) \u001B[38;5;28;01mfor\u001B[39;00m _id \u001B[38;5;129;01min\u001B[39;00m \u001B[38;5;28mself\u001B[39m\u001B[38;5;241m.\u001B[39m_sample_ids]\n\u001B[1;32m   4898\u001B[0m pipeline \u001B[38;5;241m=\u001B[39m [{\u001B[38;5;124m\"\u001B[39m\u001B[38;5;124m$match\u001B[39m\u001B[38;5;124m\"\u001B[39m: {\u001B[38;5;124m\"\u001B[39m\u001B[38;5;124m_id\u001B[39m\u001B[38;5;124m\"\u001B[39m: {\u001B[38;5;124m\"\u001B[39m\u001B[38;5;124m$in\u001B[39m\u001B[38;5;124m\"\u001B[39m: ids}}}]\n\u001B[1;32m   4900\u001B[0m \u001B[38;5;28;01mif\u001B[39;00m \u001B[38;5;28mself\u001B[39m\u001B[38;5;241m.\u001B[39m_ordered:\n",
      "File \u001B[0;32m~/anaconda3/envs/capstone/lib/python3.9/site-packages/fiftyone/core/stages.py:4896\u001B[0m, in \u001B[0;36m<listcomp>\u001B[0;34m(.0)\u001B[0m\n\u001B[1;32m   4891\u001B[0m \u001B[38;5;28;01mif\u001B[39;00m \u001B[38;5;28mself\u001B[39m\u001B[38;5;241m.\u001B[39m_bools:\n\u001B[1;32m   4892\u001B[0m     \u001B[38;5;28;01mraise\u001B[39;00m \u001B[38;5;167;01mValueError\u001B[39;00m(\n\u001B[1;32m   4893\u001B[0m         \u001B[38;5;124m\"\u001B[39m\u001B[38;5;124m`validate()` must be called before using this stage\u001B[39m\u001B[38;5;124m\"\u001B[39m\n\u001B[1;32m   4894\u001B[0m     )\n\u001B[0;32m-> 4896\u001B[0m ids \u001B[38;5;241m=\u001B[39m [\u001B[43mObjectId\u001B[49m\u001B[43m(\u001B[49m\u001B[43m_id\u001B[49m\u001B[43m)\u001B[49m \u001B[38;5;28;01mfor\u001B[39;00m _id \u001B[38;5;129;01min\u001B[39;00m \u001B[38;5;28mself\u001B[39m\u001B[38;5;241m.\u001B[39m_sample_ids]\n\u001B[1;32m   4898\u001B[0m pipeline \u001B[38;5;241m=\u001B[39m [{\u001B[38;5;124m\"\u001B[39m\u001B[38;5;124m$match\u001B[39m\u001B[38;5;124m\"\u001B[39m: {\u001B[38;5;124m\"\u001B[39m\u001B[38;5;124m_id\u001B[39m\u001B[38;5;124m\"\u001B[39m: {\u001B[38;5;124m\"\u001B[39m\u001B[38;5;124m$in\u001B[39m\u001B[38;5;124m\"\u001B[39m: ids}}}]\n\u001B[1;32m   4900\u001B[0m \u001B[38;5;28;01mif\u001B[39;00m \u001B[38;5;28mself\u001B[39m\u001B[38;5;241m.\u001B[39m_ordered:\n",
      "File \u001B[0;32m~/anaconda3/envs/capstone/lib/python3.9/site-packages/bson/objectid.py:103\u001B[0m, in \u001B[0;36mObjectId.__init__\u001B[0;34m(self, oid)\u001B[0m\n\u001B[1;32m    101\u001B[0m     \u001B[38;5;28mself\u001B[39m\u001B[38;5;241m.\u001B[39m__id \u001B[38;5;241m=\u001B[39m oid\n\u001B[1;32m    102\u001B[0m \u001B[38;5;28;01melse\u001B[39;00m:\n\u001B[0;32m--> 103\u001B[0m     \u001B[38;5;28;43mself\u001B[39;49m\u001B[38;5;241;43m.\u001B[39;49m\u001B[43m__validate\u001B[49m\u001B[43m(\u001B[49m\u001B[43moid\u001B[49m\u001B[43m)\u001B[49m\n",
      "File \u001B[0;32m~/anaconda3/envs/capstone/lib/python3.9/site-packages/bson/objectid.py:203\u001B[0m, in \u001B[0;36mObjectId.__validate\u001B[0;34m(self, oid)\u001B[0m\n\u001B[1;32m    201\u001B[0m             _raise_invalid_id(oid)\n\u001B[1;32m    202\u001B[0m     \u001B[38;5;28;01melse\u001B[39;00m:\n\u001B[0;32m--> 203\u001B[0m         \u001B[43m_raise_invalid_id\u001B[49m\u001B[43m(\u001B[49m\u001B[43moid\u001B[49m\u001B[43m)\u001B[49m\n\u001B[1;32m    204\u001B[0m \u001B[38;5;28;01melse\u001B[39;00m:\n\u001B[1;32m    205\u001B[0m     \u001B[38;5;28;01mraise\u001B[39;00m \u001B[38;5;167;01mTypeError\u001B[39;00m(\n\u001B[1;32m    206\u001B[0m         \u001B[38;5;124m\"\u001B[39m\u001B[38;5;124mid must be an instance of (bytes, str, ObjectId), not \u001B[39m\u001B[38;5;132;01m%s\u001B[39;00m\u001B[38;5;124m\"\u001B[39m \u001B[38;5;241m%\u001B[39m (\u001B[38;5;28mtype\u001B[39m(oid),)\n\u001B[1;32m    207\u001B[0m     )\n",
      "File \u001B[0;32m~/anaconda3/envs/capstone/lib/python3.9/site-packages/bson/objectid.py:35\u001B[0m, in \u001B[0;36m_raise_invalid_id\u001B[0;34m(oid)\u001B[0m\n\u001B[1;32m     34\u001B[0m \u001B[38;5;28;01mdef\u001B[39;00m \u001B[38;5;21m_raise_invalid_id\u001B[39m(oid: \u001B[38;5;28mstr\u001B[39m) \u001B[38;5;241m-\u001B[39m\u001B[38;5;241m>\u001B[39m NoReturn:\n\u001B[0;32m---> 35\u001B[0m     \u001B[38;5;28;01mraise\u001B[39;00m InvalidId(\n\u001B[1;32m     36\u001B[0m         \u001B[38;5;124m\"\u001B[39m\u001B[38;5;132;01m%r\u001B[39;00m\u001B[38;5;124m is not a valid ObjectId, it must be a 12-byte input\u001B[39m\u001B[38;5;124m\"\u001B[39m\n\u001B[1;32m     37\u001B[0m         \u001B[38;5;124m\"\u001B[39m\u001B[38;5;124m or a 24-character hex string\u001B[39m\u001B[38;5;124m\"\u001B[39m \u001B[38;5;241m%\u001B[39m oid\n\u001B[1;32m     38\u001B[0m     )\n",
      "\u001B[0;31mInvalidId\u001B[0m: '/home/zach/fiftyone/coco-2017/train/data/000000530631.jpg' is not a valid ObjectId, it must be a 12-byte input or a 24-character hex string"
     ]
    }
   ],
   "source": [
    "sample = x[y]\n",
    "sample"
   ],
   "metadata": {
    "collapsed": false,
    "pycharm": {
     "name": "#%%\n"
    }
   }
  },
  {
   "cell_type": "code",
   "execution_count": 14,
   "outputs": [
    {
     "ename": "InvalidId",
     "evalue": "'/home/zach/fiftyone/coco-2017/train/data/000000530631.jpg' is not a valid ObjectId, it must be a 12-byte input or a 24-character hex string",
     "output_type": "error",
     "traceback": [
      "\u001B[0;31m---------------------------------------------------------------------------\u001B[0m",
      "\u001B[0;31mInvalidId\u001B[0m                                 Traceback (most recent call last)",
      "Cell \u001B[0;32mIn[14], line 1\u001B[0m\n\u001B[0;32m----> 1\u001B[0m \u001B[38;5;28mlen\u001B[39m(\u001B[43msample\u001B[49m\u001B[43m[\u001B[49m\u001B[38;5;124;43m'\u001B[39;49m\u001B[38;5;124;43mground_truth\u001B[39;49m\u001B[38;5;124;43m'\u001B[39;49m\u001B[43m]\u001B[49m\u001B[38;5;241m.\u001B[39mdetections)\n",
      "File \u001B[0;32m~/anaconda3/envs/capstone/lib/python3.9/site-packages/fiftyone/core/view.py:114\u001B[0m, in \u001B[0;36mDatasetView.__getitem__\u001B[0;34m(self, id_filepath_slice)\u001B[0m\n\u001B[1;32m    111\u001B[0m view \u001B[38;5;241m=\u001B[39m \u001B[38;5;28mself\u001B[39m\u001B[38;5;241m.\u001B[39mmatch(query)\n\u001B[1;32m    113\u001B[0m \u001B[38;5;28;01mtry\u001B[39;00m:\n\u001B[0;32m--> 114\u001B[0m     \u001B[38;5;28;01mreturn\u001B[39;00m \u001B[38;5;28;43mnext\u001B[39;49m\u001B[43m(\u001B[49m\u001B[38;5;28;43miter\u001B[39;49m\u001B[43m(\u001B[49m\u001B[43mview\u001B[49m\u001B[43m)\u001B[49m\u001B[43m)\u001B[49m\n\u001B[1;32m    115\u001B[0m \u001B[38;5;28;01mexcept\u001B[39;00m \u001B[38;5;167;01mStopIteration\u001B[39;00m:\n\u001B[1;32m    116\u001B[0m     field \u001B[38;5;241m=\u001B[39m \u001B[38;5;124m\"\u001B[39m\u001B[38;5;124mID\u001B[39m\u001B[38;5;124m\"\u001B[39m \u001B[38;5;28;01mif\u001B[39;00m oid \u001B[38;5;129;01mis\u001B[39;00m \u001B[38;5;129;01mnot\u001B[39;00m \u001B[38;5;28;01mNone\u001B[39;00m \u001B[38;5;28;01melse\u001B[39;00m \u001B[38;5;124m\"\u001B[39m\u001B[38;5;124mfilepath\u001B[39m\u001B[38;5;124m\"\u001B[39m\n",
      "File \u001B[0;32m~/anaconda3/envs/capstone/lib/python3.9/site-packages/fiftyone/core/view.py:428\u001B[0m, in \u001B[0;36mDatasetView.iter_samples\u001B[0;34m(self, progress, autosave, batch_size)\u001B[0m\n\u001B[1;32m    425\u001B[0m     save_context \u001B[38;5;241m=\u001B[39m foc\u001B[38;5;241m.\u001B[39mSaveContext(\u001B[38;5;28mself\u001B[39m, batch_size\u001B[38;5;241m=\u001B[39mbatch_size)\n\u001B[1;32m    426\u001B[0m     exit_context\u001B[38;5;241m.\u001B[39menter_context(save_context)\n\u001B[0;32m--> 428\u001B[0m \u001B[38;5;28;01mfor\u001B[39;00m sample \u001B[38;5;129;01min\u001B[39;00m samples:\n\u001B[1;32m    429\u001B[0m     \u001B[38;5;28;01myield\u001B[39;00m sample\n\u001B[1;32m    431\u001B[0m     \u001B[38;5;28;01mif\u001B[39;00m autosave:\n",
      "File \u001B[0;32m~/anaconda3/envs/capstone/lib/python3.9/site-packages/fiftyone/core/view.py:439\u001B[0m, in \u001B[0;36mDatasetView._iter_samples\u001B[0;34m(self)\u001B[0m\n\u001B[1;32m    436\u001B[0m index \u001B[38;5;241m=\u001B[39m \u001B[38;5;241m0\u001B[39m\n\u001B[1;32m    438\u001B[0m \u001B[38;5;28;01mtry\u001B[39;00m:\n\u001B[0;32m--> 439\u001B[0m     \u001B[38;5;28;01mfor\u001B[39;00m d \u001B[38;5;129;01min\u001B[39;00m \u001B[38;5;28;43mself\u001B[39;49m\u001B[38;5;241;43m.\u001B[39;49m\u001B[43m_aggregate\u001B[49m\u001B[43m(\u001B[49m\u001B[43mdetach_frames\u001B[49m\u001B[38;5;241;43m=\u001B[39;49m\u001B[38;5;28;43;01mTrue\u001B[39;49;00m\u001B[43m,\u001B[49m\u001B[43m \u001B[49m\u001B[43mdetach_groups\u001B[49m\u001B[38;5;241;43m=\u001B[39;49m\u001B[38;5;28;43;01mTrue\u001B[39;49;00m\u001B[43m)\u001B[49m:\n\u001B[1;32m    440\u001B[0m         sample \u001B[38;5;241m=\u001B[39m make_sample(d)\n\u001B[1;32m    442\u001B[0m         index \u001B[38;5;241m+\u001B[39m\u001B[38;5;241m=\u001B[39m \u001B[38;5;241m1\u001B[39m\n",
      "File \u001B[0;32m~/anaconda3/envs/capstone/lib/python3.9/site-packages/fiftyone/core/view.py:1292\u001B[0m, in \u001B[0;36mDatasetView._aggregate\u001B[0;34m(self, pipeline, media_type, attach_frames, detach_frames, frames_only, support, group_slice, group_slices, groups_only, detach_groups, manual_group_select, post_pipeline)\u001B[0m\n\u001B[1;32m   1277\u001B[0m \u001B[38;5;28;01mdef\u001B[39;00m \u001B[38;5;21m_aggregate\u001B[39m(\n\u001B[1;32m   1278\u001B[0m     \u001B[38;5;28mself\u001B[39m,\n\u001B[1;32m   1279\u001B[0m     pipeline\u001B[38;5;241m=\u001B[39m\u001B[38;5;28;01mNone\u001B[39;00m,\n\u001B[0;32m   (...)\u001B[0m\n\u001B[1;32m   1290\u001B[0m     post_pipeline\u001B[38;5;241m=\u001B[39m\u001B[38;5;28;01mNone\u001B[39;00m,\n\u001B[1;32m   1291\u001B[0m ):\n\u001B[0;32m-> 1292\u001B[0m     _pipeline \u001B[38;5;241m=\u001B[39m \u001B[38;5;28;43mself\u001B[39;49m\u001B[38;5;241;43m.\u001B[39;49m\u001B[43m_pipeline\u001B[49m\u001B[43m(\u001B[49m\n\u001B[1;32m   1293\u001B[0m \u001B[43m        \u001B[49m\u001B[43mpipeline\u001B[49m\u001B[38;5;241;43m=\u001B[39;49m\u001B[43mpipeline\u001B[49m\u001B[43m,\u001B[49m\n\u001B[1;32m   1294\u001B[0m \u001B[43m        \u001B[49m\u001B[43mmedia_type\u001B[49m\u001B[38;5;241;43m=\u001B[39;49m\u001B[43mmedia_type\u001B[49m\u001B[43m,\u001B[49m\n\u001B[1;32m   1295\u001B[0m \u001B[43m        \u001B[49m\u001B[43mattach_frames\u001B[49m\u001B[38;5;241;43m=\u001B[39;49m\u001B[43mattach_frames\u001B[49m\u001B[43m,\u001B[49m\n\u001B[1;32m   1296\u001B[0m \u001B[43m        \u001B[49m\u001B[43mdetach_frames\u001B[49m\u001B[38;5;241;43m=\u001B[39;49m\u001B[43mdetach_frames\u001B[49m\u001B[43m,\u001B[49m\n\u001B[1;32m   1297\u001B[0m \u001B[43m        \u001B[49m\u001B[43mframes_only\u001B[49m\u001B[38;5;241;43m=\u001B[39;49m\u001B[43mframes_only\u001B[49m\u001B[43m,\u001B[49m\n\u001B[1;32m   1298\u001B[0m \u001B[43m        \u001B[49m\u001B[43msupport\u001B[49m\u001B[38;5;241;43m=\u001B[39;49m\u001B[43msupport\u001B[49m\u001B[43m,\u001B[49m\n\u001B[1;32m   1299\u001B[0m \u001B[43m        \u001B[49m\u001B[43mgroup_slice\u001B[49m\u001B[38;5;241;43m=\u001B[39;49m\u001B[43mgroup_slice\u001B[49m\u001B[43m,\u001B[49m\n\u001B[1;32m   1300\u001B[0m \u001B[43m        \u001B[49m\u001B[43mgroup_slices\u001B[49m\u001B[38;5;241;43m=\u001B[39;49m\u001B[43mgroup_slices\u001B[49m\u001B[43m,\u001B[49m\n\u001B[1;32m   1301\u001B[0m \u001B[43m        \u001B[49m\u001B[43mgroups_only\u001B[49m\u001B[38;5;241;43m=\u001B[39;49m\u001B[43mgroups_only\u001B[49m\u001B[43m,\u001B[49m\n\u001B[1;32m   1302\u001B[0m \u001B[43m        \u001B[49m\u001B[43mdetach_groups\u001B[49m\u001B[38;5;241;43m=\u001B[39;49m\u001B[43mdetach_groups\u001B[49m\u001B[43m,\u001B[49m\n\u001B[1;32m   1303\u001B[0m \u001B[43m        \u001B[49m\u001B[43mmanual_group_select\u001B[49m\u001B[38;5;241;43m=\u001B[39;49m\u001B[43mmanual_group_select\u001B[49m\u001B[43m,\u001B[49m\n\u001B[1;32m   1304\u001B[0m \u001B[43m        \u001B[49m\u001B[43mpost_pipeline\u001B[49m\u001B[38;5;241;43m=\u001B[39;49m\u001B[43mpost_pipeline\u001B[49m\u001B[43m,\u001B[49m\n\u001B[1;32m   1305\u001B[0m \u001B[43m    \u001B[49m\u001B[43m)\u001B[49m\n\u001B[1;32m   1307\u001B[0m     \u001B[38;5;28;01mreturn\u001B[39;00m foo\u001B[38;5;241m.\u001B[39maggregate(\u001B[38;5;28mself\u001B[39m\u001B[38;5;241m.\u001B[39m_dataset\u001B[38;5;241m.\u001B[39m_sample_collection, _pipeline)\n",
      "File \u001B[0;32m~/anaconda3/envs/capstone/lib/python3.9/site-packages/fiftyone/core/view.py:1187\u001B[0m, in \u001B[0;36mDatasetView._pipeline\u001B[0;34m(self, pipeline, media_type, attach_frames, detach_frames, frames_only, support, group_slice, group_slices, groups_only, detach_groups, manual_group_select, post_pipeline)\u001B[0m\n\u001B[1;32m   1184\u001B[0m             _group_slices\u001B[38;5;241m.\u001B[39mupdate(_stage_group_slices)\n\u001B[1;32m   1186\u001B[0m     \u001B[38;5;66;03m# Generate stage's pipeline\u001B[39;00m\n\u001B[0;32m-> 1187\u001B[0m     _pipelines\u001B[38;5;241m.\u001B[39mappend(\u001B[43mstage\u001B[49m\u001B[38;5;241;43m.\u001B[39;49m\u001B[43mto_mongo\u001B[49m\u001B[43m(\u001B[49m\u001B[43m_view\u001B[49m\u001B[43m)\u001B[49m)\n\u001B[1;32m   1188\u001B[0m     _view \u001B[38;5;241m=\u001B[39m _view\u001B[38;5;241m.\u001B[39madd_stage(stage)\n\u001B[1;32m   1190\u001B[0m \u001B[38;5;28;01mif\u001B[39;00m _attach_frames_idx \u001B[38;5;129;01mis\u001B[39;00m \u001B[38;5;28;01mNone\u001B[39;00m \u001B[38;5;129;01mand\u001B[39;00m (attach_frames \u001B[38;5;129;01mor\u001B[39;00m frames_only):\n",
      "File \u001B[0;32m~/anaconda3/envs/capstone/lib/python3.9/site-packages/fiftyone/core/stages.py:4896\u001B[0m, in \u001B[0;36mSelect.to_mongo\u001B[0;34m(self, _)\u001B[0m\n\u001B[1;32m   4891\u001B[0m \u001B[38;5;28;01mif\u001B[39;00m \u001B[38;5;28mself\u001B[39m\u001B[38;5;241m.\u001B[39m_bools:\n\u001B[1;32m   4892\u001B[0m     \u001B[38;5;28;01mraise\u001B[39;00m \u001B[38;5;167;01mValueError\u001B[39;00m(\n\u001B[1;32m   4893\u001B[0m         \u001B[38;5;124m\"\u001B[39m\u001B[38;5;124m`validate()` must be called before using this stage\u001B[39m\u001B[38;5;124m\"\u001B[39m\n\u001B[1;32m   4894\u001B[0m     )\n\u001B[0;32m-> 4896\u001B[0m ids \u001B[38;5;241m=\u001B[39m [ObjectId(_id) \u001B[38;5;28;01mfor\u001B[39;00m _id \u001B[38;5;129;01min\u001B[39;00m \u001B[38;5;28mself\u001B[39m\u001B[38;5;241m.\u001B[39m_sample_ids]\n\u001B[1;32m   4898\u001B[0m pipeline \u001B[38;5;241m=\u001B[39m [{\u001B[38;5;124m\"\u001B[39m\u001B[38;5;124m$match\u001B[39m\u001B[38;5;124m\"\u001B[39m: {\u001B[38;5;124m\"\u001B[39m\u001B[38;5;124m_id\u001B[39m\u001B[38;5;124m\"\u001B[39m: {\u001B[38;5;124m\"\u001B[39m\u001B[38;5;124m$in\u001B[39m\u001B[38;5;124m\"\u001B[39m: ids}}}]\n\u001B[1;32m   4900\u001B[0m \u001B[38;5;28;01mif\u001B[39;00m \u001B[38;5;28mself\u001B[39m\u001B[38;5;241m.\u001B[39m_ordered:\n",
      "File \u001B[0;32m~/anaconda3/envs/capstone/lib/python3.9/site-packages/fiftyone/core/stages.py:4896\u001B[0m, in \u001B[0;36m<listcomp>\u001B[0;34m(.0)\u001B[0m\n\u001B[1;32m   4891\u001B[0m \u001B[38;5;28;01mif\u001B[39;00m \u001B[38;5;28mself\u001B[39m\u001B[38;5;241m.\u001B[39m_bools:\n\u001B[1;32m   4892\u001B[0m     \u001B[38;5;28;01mraise\u001B[39;00m \u001B[38;5;167;01mValueError\u001B[39;00m(\n\u001B[1;32m   4893\u001B[0m         \u001B[38;5;124m\"\u001B[39m\u001B[38;5;124m`validate()` must be called before using this stage\u001B[39m\u001B[38;5;124m\"\u001B[39m\n\u001B[1;32m   4894\u001B[0m     )\n\u001B[0;32m-> 4896\u001B[0m ids \u001B[38;5;241m=\u001B[39m [\u001B[43mObjectId\u001B[49m\u001B[43m(\u001B[49m\u001B[43m_id\u001B[49m\u001B[43m)\u001B[49m \u001B[38;5;28;01mfor\u001B[39;00m _id \u001B[38;5;129;01min\u001B[39;00m \u001B[38;5;28mself\u001B[39m\u001B[38;5;241m.\u001B[39m_sample_ids]\n\u001B[1;32m   4898\u001B[0m pipeline \u001B[38;5;241m=\u001B[39m [{\u001B[38;5;124m\"\u001B[39m\u001B[38;5;124m$match\u001B[39m\u001B[38;5;124m\"\u001B[39m: {\u001B[38;5;124m\"\u001B[39m\u001B[38;5;124m_id\u001B[39m\u001B[38;5;124m\"\u001B[39m: {\u001B[38;5;124m\"\u001B[39m\u001B[38;5;124m$in\u001B[39m\u001B[38;5;124m\"\u001B[39m: ids}}}]\n\u001B[1;32m   4900\u001B[0m \u001B[38;5;28;01mif\u001B[39;00m \u001B[38;5;28mself\u001B[39m\u001B[38;5;241m.\u001B[39m_ordered:\n",
      "File \u001B[0;32m~/anaconda3/envs/capstone/lib/python3.9/site-packages/bson/objectid.py:103\u001B[0m, in \u001B[0;36mObjectId.__init__\u001B[0;34m(self, oid)\u001B[0m\n\u001B[1;32m    101\u001B[0m     \u001B[38;5;28mself\u001B[39m\u001B[38;5;241m.\u001B[39m__id \u001B[38;5;241m=\u001B[39m oid\n\u001B[1;32m    102\u001B[0m \u001B[38;5;28;01melse\u001B[39;00m:\n\u001B[0;32m--> 103\u001B[0m     \u001B[38;5;28;43mself\u001B[39;49m\u001B[38;5;241;43m.\u001B[39;49m\u001B[43m__validate\u001B[49m\u001B[43m(\u001B[49m\u001B[43moid\u001B[49m\u001B[43m)\u001B[49m\n",
      "File \u001B[0;32m~/anaconda3/envs/capstone/lib/python3.9/site-packages/bson/objectid.py:203\u001B[0m, in \u001B[0;36mObjectId.__validate\u001B[0;34m(self, oid)\u001B[0m\n\u001B[1;32m    201\u001B[0m             _raise_invalid_id(oid)\n\u001B[1;32m    202\u001B[0m     \u001B[38;5;28;01melse\u001B[39;00m:\n\u001B[0;32m--> 203\u001B[0m         \u001B[43m_raise_invalid_id\u001B[49m\u001B[43m(\u001B[49m\u001B[43moid\u001B[49m\u001B[43m)\u001B[49m\n\u001B[1;32m    204\u001B[0m \u001B[38;5;28;01melse\u001B[39;00m:\n\u001B[1;32m    205\u001B[0m     \u001B[38;5;28;01mraise\u001B[39;00m \u001B[38;5;167;01mTypeError\u001B[39;00m(\n\u001B[1;32m    206\u001B[0m         \u001B[38;5;124m\"\u001B[39m\u001B[38;5;124mid must be an instance of (bytes, str, ObjectId), not \u001B[39m\u001B[38;5;132;01m%s\u001B[39;00m\u001B[38;5;124m\"\u001B[39m \u001B[38;5;241m%\u001B[39m (\u001B[38;5;28mtype\u001B[39m(oid),)\n\u001B[1;32m    207\u001B[0m     )\n",
      "File \u001B[0;32m~/anaconda3/envs/capstone/lib/python3.9/site-packages/bson/objectid.py:35\u001B[0m, in \u001B[0;36m_raise_invalid_id\u001B[0;34m(oid)\u001B[0m\n\u001B[1;32m     34\u001B[0m \u001B[38;5;28;01mdef\u001B[39;00m \u001B[38;5;21m_raise_invalid_id\u001B[39m(oid: \u001B[38;5;28mstr\u001B[39m) \u001B[38;5;241m-\u001B[39m\u001B[38;5;241m>\u001B[39m NoReturn:\n\u001B[0;32m---> 35\u001B[0m     \u001B[38;5;28;01mraise\u001B[39;00m InvalidId(\n\u001B[1;32m     36\u001B[0m         \u001B[38;5;124m\"\u001B[39m\u001B[38;5;132;01m%r\u001B[39;00m\u001B[38;5;124m is not a valid ObjectId, it must be a 12-byte input\u001B[39m\u001B[38;5;124m\"\u001B[39m\n\u001B[1;32m     37\u001B[0m         \u001B[38;5;124m\"\u001B[39m\u001B[38;5;124m or a 24-character hex string\u001B[39m\u001B[38;5;124m\"\u001B[39m \u001B[38;5;241m%\u001B[39m oid\n\u001B[1;32m     38\u001B[0m     )\n",
      "\u001B[0;31mInvalidId\u001B[0m: '/home/zach/fiftyone/coco-2017/train/data/000000530631.jpg' is not a valid ObjectId, it must be a 12-byte input or a 24-character hex string"
     ]
    }
   ],
   "source": [
    "len(sample['ground_truth'].detections)"
   ],
   "metadata": {
    "collapsed": false,
    "pycharm": {
     "name": "#%%\n"
    }
   }
  },
  {
   "cell_type": "code",
   "execution_count": null,
   "outputs": [],
   "source": [
    "sample"
   ],
   "metadata": {
    "collapsed": false,
    "pycharm": {
     "name": "#%%\n"
    }
   }
  },
  {
   "cell_type": "code",
   "execution_count": 21,
   "outputs": [],
   "source": [
    "import torchvision\n",
    "from torchvision.models.detection.faster_rcnn import FastRCNNPredictor\n",
    "\n",
    "def get_model(num_classes):\n",
    "    # load a model pre-trained pre-trained on COCO\n",
    "    model = torchvision.models.detection.fasterrcnn_resnet50_fpn(pretrained=True)\n",
    "\n",
    "    # get number of input features for the classifier\n",
    "    in_features = model.roi_heads.box_predictor.cls_score.in_features\n",
    "    # replace the pre-trained head with a new one\n",
    "    model.roi_heads.box_predictor = FastRCNNPredictor(in_features, num_classes)\n",
    "    return model"
   ],
   "metadata": {
    "collapsed": false,
    "pycharm": {
     "name": "#%%\n"
    }
   }
  }
 ],
 "metadata": {
  "kernelspec": {
   "display_name": "Python 3",
   "language": "python",
   "name": "python3"
  },
  "language_info": {
   "codemirror_mode": {
    "name": "ipython",
    "version": 2
   },
   "file_extension": ".py",
   "mimetype": "text/x-python",
   "name": "python",
   "nbconvert_exporter": "python",
   "pygments_lexer": "ipython2",
   "version": "2.7.6"
  }
 },
 "nbformat": 4,
 "nbformat_minor": 0
}